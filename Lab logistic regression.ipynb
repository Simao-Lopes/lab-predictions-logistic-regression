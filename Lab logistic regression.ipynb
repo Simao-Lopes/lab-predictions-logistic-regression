{
 "cells": [
  {
   "cell_type": "markdown",
   "id": "f5508617",
   "metadata": {},
   "source": [
    "# Lab | Making predictions with logistic regression\n",
    "\n",
    "In this lab, you will be using the [Sakila](https://dev.mysql.com/doc/sakila/en/) database of movie rentals.\n",
    "\n",
    "In order to optimize our inventory, we would like to know which films will be rented next month and we are asked to create a model to predict it.\n",
    "\n",
    "\n",
    "### Instructions\n",
    "\n",
    "1. Create a query or queries to extract the information you think may be relevant for building the prediction model. It should include some film features and some rental features. Use the data from 2005.\n",
    "2. Create a query to get the list of films and a boolean indicating if it was rented last month (May 2005). This would be our target variable.\n",
    "3. Read the data into a Pandas dataframe.\n",
    "4. Analyze extracted features and transform them. You may need to encode some categorical variables, or scale numerical variables.\n",
    "5. Create a logistic regression model to predict this variable from the cleaned data.\n",
    "6. Evaluate the results.\n"
   ]
  },
  {
   "cell_type": "markdown",
   "id": "7dc1c9c2",
   "metadata": {},
   "source": [
    "## Import libraries and get database password"
   ]
  },
  {
   "cell_type": "code",
   "execution_count": 164,
   "id": "1106f7cd",
   "metadata": {
    "ExecuteTime": {
     "end_time": "2022-09-22T20:32:01.517992Z",
     "start_time": "2022-09-22T20:32:01.509985Z"
    }
   },
   "outputs": [],
   "source": [
    "from sklearn.metrics import confusion_matrix\n",
    "from sklearn.model_selection import train_test_split\n",
    "from sklearn.preprocessing import OneHotEncoder\n",
    "import pymysql\n",
    "from sqlalchemy import create_engine\n",
    "import pandas as pd\n",
    "import getpass  # To get the password without showing the input\n",
    "\n",
    "password = getpass.getpass()"
   ]
  },
  {
   "cell_type": "markdown",
   "id": "872169bb",
   "metadata": {
    "ExecuteTime": {
     "end_time": "2022-09-22T13:47:03.473557Z",
     "start_time": "2022-09-22T13:47:03.457551Z"
    }
   },
   "source": [
    "## Get database data through SQL query"
   ]
  },
  {
   "cell_type": "code",
   "execution_count": 276,
   "id": "c855623a",
   "metadata": {
    "ExecuteTime": {
     "end_time": "2022-09-22T21:02:34.571739Z",
     "start_time": "2022-09-22T21:02:34.455295Z"
    }
   },
   "outputs": [
    {
     "data": {
      "text/html": [
       "<div>\n",
       "<style scoped>\n",
       "    .dataframe tbody tr th:only-of-type {\n",
       "        vertical-align: middle;\n",
       "    }\n",
       "\n",
       "    .dataframe tbody tr th {\n",
       "        vertical-align: top;\n",
       "    }\n",
       "\n",
       "    .dataframe thead th {\n",
       "        text-align: right;\n",
       "    }\n",
       "</style>\n",
       "<table border=\"1\" class=\"dataframe\">\n",
       "  <thead>\n",
       "    <tr style=\"text-align: right;\">\n",
       "      <th></th>\n",
       "      <th>title</th>\n",
       "      <th>rental_duration</th>\n",
       "      <th>rental_rate</th>\n",
       "      <th>length</th>\n",
       "      <th>replacement_cost</th>\n",
       "      <th>rating</th>\n",
       "      <th>category</th>\n",
       "      <th>rented_may</th>\n",
       "    </tr>\n",
       "  </thead>\n",
       "  <tbody>\n",
       "    <tr>\n",
       "      <th>0</th>\n",
       "      <td>ACADEMY DINOSAUR</td>\n",
       "      <td>6</td>\n",
       "      <td>0.99</td>\n",
       "      <td>86</td>\n",
       "      <td>20.99</td>\n",
       "      <td>PG</td>\n",
       "      <td>Documentary</td>\n",
       "      <td>1.0</td>\n",
       "    </tr>\n",
       "    <tr>\n",
       "      <th>1</th>\n",
       "      <td>ACE GOLDFINGER</td>\n",
       "      <td>3</td>\n",
       "      <td>4.99</td>\n",
       "      <td>48</td>\n",
       "      <td>12.99</td>\n",
       "      <td>G</td>\n",
       "      <td>Horror</td>\n",
       "      <td>NaN</td>\n",
       "    </tr>\n",
       "    <tr>\n",
       "      <th>2</th>\n",
       "      <td>ADAPTATION HOLES</td>\n",
       "      <td>7</td>\n",
       "      <td>2.99</td>\n",
       "      <td>50</td>\n",
       "      <td>18.99</td>\n",
       "      <td>NC-17</td>\n",
       "      <td>Documentary</td>\n",
       "      <td>1.0</td>\n",
       "    </tr>\n",
       "    <tr>\n",
       "      <th>3</th>\n",
       "      <td>AFFAIR PREJUDICE</td>\n",
       "      <td>5</td>\n",
       "      <td>2.99</td>\n",
       "      <td>117</td>\n",
       "      <td>26.99</td>\n",
       "      <td>G</td>\n",
       "      <td>Horror</td>\n",
       "      <td>1.0</td>\n",
       "    </tr>\n",
       "    <tr>\n",
       "      <th>4</th>\n",
       "      <td>AFRICAN EGG</td>\n",
       "      <td>6</td>\n",
       "      <td>2.99</td>\n",
       "      <td>130</td>\n",
       "      <td>22.99</td>\n",
       "      <td>G</td>\n",
       "      <td>Family</td>\n",
       "      <td>1.0</td>\n",
       "    </tr>\n",
       "  </tbody>\n",
       "</table>\n",
       "</div>"
      ],
      "text/plain": [
       "              title  rental_duration  rental_rate  length  replacement_cost  \\\n",
       "0  ACADEMY DINOSAUR                6         0.99      86             20.99   \n",
       "1    ACE GOLDFINGER                3         4.99      48             12.99   \n",
       "2  ADAPTATION HOLES                7         2.99      50             18.99   \n",
       "3  AFFAIR PREJUDICE                5         2.99     117             26.99   \n",
       "4       AFRICAN EGG                6         2.99     130             22.99   \n",
       "\n",
       "  rating     category  rented_may  \n",
       "0     PG  Documentary         1.0  \n",
       "1      G       Horror         NaN  \n",
       "2  NC-17  Documentary         1.0  \n",
       "3      G       Horror         1.0  \n",
       "4      G       Family         1.0  "
      ]
     },
     "execution_count": 276,
     "metadata": {},
     "output_type": "execute_result"
    }
   ],
   "source": [
    "# get the data\n",
    "connection_string = 'mysql+pymysql://root:' + password + '@localhost/sakila'\n",
    "engine = create_engine(connection_string)\n",
    "query = ''' \n",
    "            select title, rental_duration, rental_rate, length, replacement_cost, rating, category, rented_may\n",
    "            from(\n",
    "            select film_id,\n",
    "            case\n",
    "            when month(rental_date) = 5 then True\n",
    "            else False\n",
    "            end as rented_may\n",
    "            from rental\n",
    "            join inventory using(inventory_id)\n",
    "            join film using(film_id)\n",
    "            join film_category using(film_id)\n",
    "            join category using (category_id)\n",
    "            where year(rental_date) = 2005 and month(rental_date) = 5\n",
    "            group by film_id) t1\n",
    "            right join(\n",
    "            select rental_date, title, film_id, rental_duration, rental_rate, length, replacement_cost, rating, category.name as category\n",
    "            from rental\n",
    "            join inventory using(inventory_id)\n",
    "            join film using(film_id)\n",
    "            join film_category using(film_id)\n",
    "            join category using (category_id)\n",
    "            where year(rental_date) = 2005\n",
    "            group by film_id\n",
    "            ) t2\n",
    "            using (film_id)\n",
    "            order by title asc'''\n",
    "\n",
    "data = pd.read_sql_query(query, engine)\n",
    "data.head(5)"
   ]
  },
  {
   "cell_type": "code",
   "execution_count": 277,
   "id": "d1100d9a",
   "metadata": {
    "ExecuteTime": {
     "end_time": "2022-09-22T21:02:34.587753Z",
     "start_time": "2022-09-22T21:02:34.572740Z"
    }
   },
   "outputs": [
    {
     "data": {
      "text/plain": [
       "title                object\n",
       "rental_duration       int64\n",
       "rental_rate         float64\n",
       "length                int64\n",
       "replacement_cost    float64\n",
       "rating               object\n",
       "category             object\n",
       "rented_may          float64\n",
       "dtype: object"
      ]
     },
     "execution_count": 277,
     "metadata": {},
     "output_type": "execute_result"
    }
   ],
   "source": [
    "# Checking data types of columns\n",
    "data.dtypes"
   ]
  },
  {
   "cell_type": "code",
   "execution_count": 278,
   "id": "bb9eaab3",
   "metadata": {
    "ExecuteTime": {
     "end_time": "2022-09-22T21:02:34.603768Z",
     "start_time": "2022-09-22T21:02:34.588755Z"
    },
    "scrolled": true
   },
   "outputs": [
    {
     "data": {
      "text/plain": [
       "20.99    55\n",
       "21.99    55\n",
       "22.99    54\n",
       "29.99    52\n",
       "12.99    52\n",
       "27.99    51\n",
       "13.99    50\n",
       "14.99    48\n",
       "11.99    47\n",
       "17.99    46\n",
       "10.99    46\n",
       "26.99    45\n",
       "19.99    45\n",
       "23.99    44\n",
       "25.99    41\n",
       "9.99     40\n",
       "28.99    40\n",
       "18.99    40\n",
       "24.99    37\n",
       "16.99    36\n",
       "15.99    34\n",
       "Name: replacement_cost, dtype: int64"
      ]
     },
     "execution_count": 278,
     "metadata": {},
     "output_type": "execute_result"
    }
   ],
   "source": [
    "# drop this column\n",
    "data['replacement_cost'].value_counts()"
   ]
  },
  {
   "cell_type": "code",
   "execution_count": 279,
   "id": "8a8aad1b",
   "metadata": {
    "ExecuteTime": {
     "end_time": "2022-09-22T21:02:34.619787Z",
     "start_time": "2022-09-22T21:02:34.605770Z"
    }
   },
   "outputs": [
    {
     "data": {
      "text/plain": [
       "6    203\n",
       "3    197\n",
       "4    194\n",
       "5    186\n",
       "7    178\n",
       "Name: rental_duration, dtype: int64"
      ]
     },
     "execution_count": 279,
     "metadata": {},
     "output_type": "execute_result"
    }
   ],
   "source": [
    "# Has to be categorized\n",
    "data['rental_duration'].value_counts()"
   ]
  },
  {
   "cell_type": "code",
   "execution_count": 280,
   "id": "7008dd24",
   "metadata": {
    "ExecuteTime": {
     "end_time": "2022-09-22T21:02:34.635377Z",
     "start_time": "2022-09-22T21:02:34.620789Z"
    }
   },
   "outputs": [
    {
     "data": {
      "text/plain": [
       "0.99    326\n",
       "4.99    320\n",
       "2.99    312\n",
       "Name: rental_rate, dtype: int64"
      ]
     },
     "execution_count": 280,
     "metadata": {},
     "output_type": "execute_result"
    }
   ],
   "source": [
    "# Has to be categorized\n",
    "data['rental_rate'].value_counts()"
   ]
  },
  {
   "cell_type": "code",
   "execution_count": 281,
   "id": "a4a5511a",
   "metadata": {
    "ExecuteTime": {
     "end_time": "2022-09-22T21:02:34.651391Z",
     "start_time": "2022-09-22T21:02:34.636378Z"
    }
   },
   "outputs": [
    {
     "data": {
      "text/plain": [
       "count    958.000000\n",
       "mean     115.490605\n",
       "std       40.471844\n",
       "min       46.000000\n",
       "25%       80.250000\n",
       "50%      114.000000\n",
       "75%      150.000000\n",
       "max      185.000000\n",
       "Name: length, dtype: float64"
      ]
     },
     "execution_count": 281,
     "metadata": {},
     "output_type": "execute_result"
    }
   ],
   "source": [
    "# Bin the movies length with the standard 0,90,120,150-max durations\n",
    "data['length'].describe()"
   ]
  },
  {
   "cell_type": "code",
   "execution_count": 282,
   "id": "38187706",
   "metadata": {
    "ExecuteTime": {
     "end_time": "2022-09-22T21:02:34.667406Z",
     "start_time": "2022-09-22T21:02:34.652393Z"
    }
   },
   "outputs": [
    {
     "data": {
      "text/plain": [
       "title                 0\n",
       "rental_duration       0\n",
       "rental_rate           0\n",
       "length                0\n",
       "replacement_cost      0\n",
       "rating                0\n",
       "category              0\n",
       "rented_may          272\n",
       "dtype: int64"
      ]
     },
     "execution_count": 282,
     "metadata": {},
     "output_type": "execute_result"
    }
   ],
   "source": [
    "# Checking for undisired nans\n",
    "data.isna().sum()"
   ]
  },
  {
   "cell_type": "markdown",
   "id": "385df28d",
   "metadata": {},
   "source": [
    "The Nan's in rented_may actually represent that the movie wasn't rented in may, since this is a boolean field we are going to  fill it with 0 instead of dropping."
   ]
  },
  {
   "cell_type": "code",
   "execution_count": 283,
   "id": "48de5ef1",
   "metadata": {
    "ExecuteTime": {
     "end_time": "2022-09-22T21:02:34.683424Z",
     "start_time": "2022-09-22T21:02:34.668407Z"
    }
   },
   "outputs": [],
   "source": [
    "data['rented_may'] = data['rented_may'].fillna(0)"
   ]
  },
  {
   "cell_type": "code",
   "execution_count": 284,
   "id": "661b7796",
   "metadata": {
    "ExecuteTime": {
     "end_time": "2022-09-22T21:02:34.699438Z",
     "start_time": "2022-09-22T21:02:34.684424Z"
    }
   },
   "outputs": [
    {
     "data": {
      "text/html": [
       "<div>\n",
       "<style scoped>\n",
       "    .dataframe tbody tr th:only-of-type {\n",
       "        vertical-align: middle;\n",
       "    }\n",
       "\n",
       "    .dataframe tbody tr th {\n",
       "        vertical-align: top;\n",
       "    }\n",
       "\n",
       "    .dataframe thead th {\n",
       "        text-align: right;\n",
       "    }\n",
       "</style>\n",
       "<table border=\"1\" class=\"dataframe\">\n",
       "  <thead>\n",
       "    <tr style=\"text-align: right;\">\n",
       "      <th></th>\n",
       "      <th>title</th>\n",
       "      <th>rental_duration</th>\n",
       "      <th>rental_rate</th>\n",
       "      <th>length</th>\n",
       "      <th>replacement_cost</th>\n",
       "      <th>rating</th>\n",
       "      <th>category</th>\n",
       "      <th>rented_may</th>\n",
       "    </tr>\n",
       "  </thead>\n",
       "  <tbody>\n",
       "    <tr>\n",
       "      <th>0</th>\n",
       "      <td>ACADEMY DINOSAUR</td>\n",
       "      <td>6</td>\n",
       "      <td>0.99</td>\n",
       "      <td>86</td>\n",
       "      <td>20.99</td>\n",
       "      <td>PG</td>\n",
       "      <td>Documentary</td>\n",
       "      <td>1.0</td>\n",
       "    </tr>\n",
       "    <tr>\n",
       "      <th>1</th>\n",
       "      <td>ACE GOLDFINGER</td>\n",
       "      <td>3</td>\n",
       "      <td>4.99</td>\n",
       "      <td>48</td>\n",
       "      <td>12.99</td>\n",
       "      <td>G</td>\n",
       "      <td>Horror</td>\n",
       "      <td>0.0</td>\n",
       "    </tr>\n",
       "    <tr>\n",
       "      <th>2</th>\n",
       "      <td>ADAPTATION HOLES</td>\n",
       "      <td>7</td>\n",
       "      <td>2.99</td>\n",
       "      <td>50</td>\n",
       "      <td>18.99</td>\n",
       "      <td>NC-17</td>\n",
       "      <td>Documentary</td>\n",
       "      <td>1.0</td>\n",
       "    </tr>\n",
       "    <tr>\n",
       "      <th>3</th>\n",
       "      <td>AFFAIR PREJUDICE</td>\n",
       "      <td>5</td>\n",
       "      <td>2.99</td>\n",
       "      <td>117</td>\n",
       "      <td>26.99</td>\n",
       "      <td>G</td>\n",
       "      <td>Horror</td>\n",
       "      <td>1.0</td>\n",
       "    </tr>\n",
       "    <tr>\n",
       "      <th>4</th>\n",
       "      <td>AFRICAN EGG</td>\n",
       "      <td>6</td>\n",
       "      <td>2.99</td>\n",
       "      <td>130</td>\n",
       "      <td>22.99</td>\n",
       "      <td>G</td>\n",
       "      <td>Family</td>\n",
       "      <td>1.0</td>\n",
       "    </tr>\n",
       "  </tbody>\n",
       "</table>\n",
       "</div>"
      ],
      "text/plain": [
       "              title  rental_duration  rental_rate  length  replacement_cost  \\\n",
       "0  ACADEMY DINOSAUR                6         0.99      86             20.99   \n",
       "1    ACE GOLDFINGER                3         4.99      48             12.99   \n",
       "2  ADAPTATION HOLES                7         2.99      50             18.99   \n",
       "3  AFFAIR PREJUDICE                5         2.99     117             26.99   \n",
       "4       AFRICAN EGG                6         2.99     130             22.99   \n",
       "\n",
       "  rating     category  rented_may  \n",
       "0     PG  Documentary         1.0  \n",
       "1      G       Horror         0.0  \n",
       "2  NC-17  Documentary         1.0  \n",
       "3      G       Horror         1.0  \n",
       "4      G       Family         1.0  "
      ]
     },
     "execution_count": 284,
     "metadata": {},
     "output_type": "execute_result"
    }
   ],
   "source": [
    "data.head()"
   ]
  },
  {
   "cell_type": "code",
   "execution_count": 285,
   "id": "937b575f",
   "metadata": {
    "ExecuteTime": {
     "end_time": "2022-09-22T21:02:34.715453Z",
     "start_time": "2022-09-22T21:02:34.701440Z"
    }
   },
   "outputs": [
    {
     "data": {
      "text/html": [
       "<div>\n",
       "<style scoped>\n",
       "    .dataframe tbody tr th:only-of-type {\n",
       "        vertical-align: middle;\n",
       "    }\n",
       "\n",
       "    .dataframe tbody tr th {\n",
       "        vertical-align: top;\n",
       "    }\n",
       "\n",
       "    .dataframe thead th {\n",
       "        text-align: right;\n",
       "    }\n",
       "</style>\n",
       "<table border=\"1\" class=\"dataframe\">\n",
       "  <thead>\n",
       "    <tr style=\"text-align: right;\">\n",
       "      <th></th>\n",
       "      <th>title</th>\n",
       "      <th>category</th>\n",
       "      <th>rating</th>\n",
       "      <th>length</th>\n",
       "      <th>rental_rate</th>\n",
       "      <th>replacement_cost</th>\n",
       "      <th>rental_duration</th>\n",
       "      <th>rented_may</th>\n",
       "    </tr>\n",
       "  </thead>\n",
       "  <tbody>\n",
       "    <tr>\n",
       "      <th>0</th>\n",
       "      <td>ACADEMY DINOSAUR</td>\n",
       "      <td>Documentary</td>\n",
       "      <td>PG</td>\n",
       "      <td>86</td>\n",
       "      <td>0.99</td>\n",
       "      <td>20.99</td>\n",
       "      <td>6</td>\n",
       "      <td>1.0</td>\n",
       "    </tr>\n",
       "    <tr>\n",
       "      <th>1</th>\n",
       "      <td>ACE GOLDFINGER</td>\n",
       "      <td>Horror</td>\n",
       "      <td>G</td>\n",
       "      <td>48</td>\n",
       "      <td>4.99</td>\n",
       "      <td>12.99</td>\n",
       "      <td>3</td>\n",
       "      <td>0.0</td>\n",
       "    </tr>\n",
       "    <tr>\n",
       "      <th>2</th>\n",
       "      <td>ADAPTATION HOLES</td>\n",
       "      <td>Documentary</td>\n",
       "      <td>NC-17</td>\n",
       "      <td>50</td>\n",
       "      <td>2.99</td>\n",
       "      <td>18.99</td>\n",
       "      <td>7</td>\n",
       "      <td>1.0</td>\n",
       "    </tr>\n",
       "    <tr>\n",
       "      <th>3</th>\n",
       "      <td>AFFAIR PREJUDICE</td>\n",
       "      <td>Horror</td>\n",
       "      <td>G</td>\n",
       "      <td>117</td>\n",
       "      <td>2.99</td>\n",
       "      <td>26.99</td>\n",
       "      <td>5</td>\n",
       "      <td>1.0</td>\n",
       "    </tr>\n",
       "    <tr>\n",
       "      <th>4</th>\n",
       "      <td>AFRICAN EGG</td>\n",
       "      <td>Family</td>\n",
       "      <td>G</td>\n",
       "      <td>130</td>\n",
       "      <td>2.99</td>\n",
       "      <td>22.99</td>\n",
       "      <td>6</td>\n",
       "      <td>1.0</td>\n",
       "    </tr>\n",
       "  </tbody>\n",
       "</table>\n",
       "</div>"
      ],
      "text/plain": [
       "              title     category rating  length  rental_rate  \\\n",
       "0  ACADEMY DINOSAUR  Documentary     PG      86         0.99   \n",
       "1    ACE GOLDFINGER       Horror      G      48         4.99   \n",
       "2  ADAPTATION HOLES  Documentary  NC-17      50         2.99   \n",
       "3  AFFAIR PREJUDICE       Horror      G     117         2.99   \n",
       "4       AFRICAN EGG       Family      G     130         2.99   \n",
       "\n",
       "   replacement_cost  rental_duration  rented_may  \n",
       "0             20.99                6         1.0  \n",
       "1             12.99                3         0.0  \n",
       "2             18.99                7         1.0  \n",
       "3             26.99                5         1.0  \n",
       "4             22.99                6         1.0  "
      ]
     },
     "execution_count": 285,
     "metadata": {},
     "output_type": "execute_result"
    }
   ],
   "source": [
    "# Arranging columns to better understanding\n",
    "data = data[['title','category', 'rating', 'length','rental_rate','replacement_cost','rental_duration','rented_may']]\n",
    "data.head()"
   ]
  },
  {
   "cell_type": "markdown",
   "id": "3c3702ba",
   "metadata": {},
   "source": [
    "### Summary of actions to take.\n",
    "\n",
    "\n",
    "+ Columns to categorical encode: title, category, rating, rental_rate, rental duration.\n",
    "+ Columns to drop: replacement_cost\n",
    "+ Columns to bin: length\n",
    "\n",
    "+ Target column: rented_may"
   ]
  },
  {
   "cell_type": "code",
   "execution_count": 286,
   "id": "70d6df45",
   "metadata": {
    "ExecuteTime": {
     "end_time": "2022-09-22T21:02:34.731468Z",
     "start_time": "2022-09-22T21:02:34.716453Z"
    },
    "scrolled": false
   },
   "outputs": [
    {
     "data": {
      "text/html": [
       "<div>\n",
       "<style scoped>\n",
       "    .dataframe tbody tr th:only-of-type {\n",
       "        vertical-align: middle;\n",
       "    }\n",
       "\n",
       "    .dataframe tbody tr th {\n",
       "        vertical-align: top;\n",
       "    }\n",
       "\n",
       "    .dataframe thead th {\n",
       "        text-align: right;\n",
       "    }\n",
       "</style>\n",
       "<table border=\"1\" class=\"dataframe\">\n",
       "  <thead>\n",
       "    <tr style=\"text-align: right;\">\n",
       "      <th></th>\n",
       "      <th>title</th>\n",
       "      <th>category</th>\n",
       "      <th>rating</th>\n",
       "      <th>length</th>\n",
       "      <th>rental_rate</th>\n",
       "      <th>rental_duration</th>\n",
       "      <th>rented_may</th>\n",
       "    </tr>\n",
       "  </thead>\n",
       "  <tbody>\n",
       "    <tr>\n",
       "      <th>0</th>\n",
       "      <td>ACADEMY DINOSAUR</td>\n",
       "      <td>Documentary</td>\n",
       "      <td>PG</td>\n",
       "      <td>86</td>\n",
       "      <td>0.99</td>\n",
       "      <td>6</td>\n",
       "      <td>1.0</td>\n",
       "    </tr>\n",
       "    <tr>\n",
       "      <th>1</th>\n",
       "      <td>ACE GOLDFINGER</td>\n",
       "      <td>Horror</td>\n",
       "      <td>G</td>\n",
       "      <td>48</td>\n",
       "      <td>4.99</td>\n",
       "      <td>3</td>\n",
       "      <td>0.0</td>\n",
       "    </tr>\n",
       "    <tr>\n",
       "      <th>2</th>\n",
       "      <td>ADAPTATION HOLES</td>\n",
       "      <td>Documentary</td>\n",
       "      <td>NC-17</td>\n",
       "      <td>50</td>\n",
       "      <td>2.99</td>\n",
       "      <td>7</td>\n",
       "      <td>1.0</td>\n",
       "    </tr>\n",
       "    <tr>\n",
       "      <th>3</th>\n",
       "      <td>AFFAIR PREJUDICE</td>\n",
       "      <td>Horror</td>\n",
       "      <td>G</td>\n",
       "      <td>117</td>\n",
       "      <td>2.99</td>\n",
       "      <td>5</td>\n",
       "      <td>1.0</td>\n",
       "    </tr>\n",
       "    <tr>\n",
       "      <th>4</th>\n",
       "      <td>AFRICAN EGG</td>\n",
       "      <td>Family</td>\n",
       "      <td>G</td>\n",
       "      <td>130</td>\n",
       "      <td>2.99</td>\n",
       "      <td>6</td>\n",
       "      <td>1.0</td>\n",
       "    </tr>\n",
       "  </tbody>\n",
       "</table>\n",
       "</div>"
      ],
      "text/plain": [
       "              title     category rating  length  rental_rate  rental_duration  \\\n",
       "0  ACADEMY DINOSAUR  Documentary     PG      86         0.99                6   \n",
       "1    ACE GOLDFINGER       Horror      G      48         4.99                3   \n",
       "2  ADAPTATION HOLES  Documentary  NC-17      50         2.99                7   \n",
       "3  AFFAIR PREJUDICE       Horror      G     117         2.99                5   \n",
       "4       AFRICAN EGG       Family      G     130         2.99                6   \n",
       "\n",
       "   rented_may  \n",
       "0         1.0  \n",
       "1         0.0  \n",
       "2         1.0  \n",
       "3         1.0  \n",
       "4         1.0  "
      ]
     },
     "execution_count": 286,
     "metadata": {},
     "output_type": "execute_result"
    }
   ],
   "source": [
    "# droping column replacement_cost\n",
    "data = data.drop(['replacement_cost'], axis = 1)\n",
    "data.head()"
   ]
  },
  {
   "cell_type": "code",
   "execution_count": 287,
   "id": "7254ba02",
   "metadata": {
    "ExecuteTime": {
     "end_time": "2022-09-22T21:02:34.747482Z",
     "start_time": "2022-09-22T21:02:34.732468Z"
    }
   },
   "outputs": [
    {
     "data": {
      "text/plain": [
       "title               object\n",
       "category            object\n",
       "rating              object\n",
       "length               int64\n",
       "rental_rate        float64\n",
       "rental_duration      int64\n",
       "rented_may         float64\n",
       "dtype: object"
      ]
     },
     "execution_count": 287,
     "metadata": {},
     "output_type": "execute_result"
    }
   ],
   "source": [
    "# Columns to categorical encode\n",
    "data.dtypes"
   ]
  },
  {
   "cell_type": "code",
   "execution_count": 288,
   "id": "1cb74f87",
   "metadata": {
    "ExecuteTime": {
     "end_time": "2022-09-22T21:02:34.763491Z",
     "start_time": "2022-09-22T21:02:34.748483Z"
    }
   },
   "outputs": [],
   "source": [
    "# convert rental_rate and rental_duration to object\n",
    "data['rental_rate'] = data['rental_rate'].astype(object)\n",
    "data['rental_duration'] = data['rental_duration'].astype(object)"
   ]
  },
  {
   "cell_type": "code",
   "execution_count": 290,
   "id": "1fb60560",
   "metadata": {
    "ExecuteTime": {
     "end_time": "2022-09-22T21:02:34.795516Z",
     "start_time": "2022-09-22T21:02:34.780499Z"
    }
   },
   "outputs": [
    {
     "data": {
      "text/plain": [
       "short       311\n",
       "extended    233\n",
       "normal      207\n",
       "long        207\n",
       "Name: length, dtype: int64"
      ]
     },
     "execution_count": 290,
     "metadata": {},
     "output_type": "execute_result"
    }
   ],
   "source": [
    "# making bins for length 0,90,120,150-max\n",
    "lbl = ['short', 'normal', 'long', 'extended'] \n",
    "data['length'] = pd.cut(data['length'],[0,90,120,150,int(data['length'].max())], labels=lbl) \n",
    "data['length'].value_counts()"
   ]
  },
  {
   "cell_type": "code",
   "execution_count": 291,
   "id": "02a511b7",
   "metadata": {
    "ExecuteTime": {
     "end_time": "2022-09-22T21:02:34.811525Z",
     "start_time": "2022-09-22T21:02:34.796517Z"
    }
   },
   "outputs": [],
   "source": [
    "# X-y Split\n",
    "y = data['rented_may']\n",
    "X = data.drop(['rented_may'], axis=1)\n",
    "    \n",
    "# Train test Splits\n",
    "X_train, X_test, y_train, y_test = train_test_split(X, y, test_size=0.20, random_state=42)"
   ]
  },
  {
   "cell_type": "code",
   "execution_count": 292,
   "id": "5b5b0ee2",
   "metadata": {
    "ExecuteTime": {
     "end_time": "2022-09-22T21:02:34.827379Z",
     "start_time": "2022-09-22T21:02:34.812526Z"
    },
    "scrolled": true
   },
   "outputs": [
    {
     "data": {
      "text/html": [
       "<div>\n",
       "<style scoped>\n",
       "    .dataframe tbody tr th:only-of-type {\n",
       "        vertical-align: middle;\n",
       "    }\n",
       "\n",
       "    .dataframe tbody tr th {\n",
       "        vertical-align: top;\n",
       "    }\n",
       "\n",
       "    .dataframe thead th {\n",
       "        text-align: right;\n",
       "    }\n",
       "</style>\n",
       "<table border=\"1\" class=\"dataframe\">\n",
       "  <thead>\n",
       "    <tr style=\"text-align: right;\">\n",
       "      <th></th>\n",
       "      <th>title</th>\n",
       "      <th>category</th>\n",
       "      <th>rating</th>\n",
       "      <th>length</th>\n",
       "      <th>rental_rate</th>\n",
       "      <th>rental_duration</th>\n",
       "    </tr>\n",
       "  </thead>\n",
       "  <tbody>\n",
       "    <tr>\n",
       "      <th>836</th>\n",
       "      <td>SWEETHEARTS SUSPECTS</td>\n",
       "      <td>Children</td>\n",
       "      <td>G</td>\n",
       "      <td>normal</td>\n",
       "      <td>0.99</td>\n",
       "      <td>3</td>\n",
       "    </tr>\n",
       "    <tr>\n",
       "      <th>477</th>\n",
       "      <td>KRAMER CHOCOLATE</td>\n",
       "      <td>Sports</td>\n",
       "      <td>R</td>\n",
       "      <td>extended</td>\n",
       "      <td>2.99</td>\n",
       "      <td>3</td>\n",
       "    </tr>\n",
       "    <tr>\n",
       "      <th>350</th>\n",
       "      <td>GOSFORD DONNIE</td>\n",
       "      <td>Action</td>\n",
       "      <td>G</td>\n",
       "      <td>long</td>\n",
       "      <td>4.99</td>\n",
       "      <td>5</td>\n",
       "    </tr>\n",
       "    <tr>\n",
       "      <th>891</th>\n",
       "      <td>VACATION BOONDOCK</td>\n",
       "      <td>Sci-Fi</td>\n",
       "      <td>R</td>\n",
       "      <td>long</td>\n",
       "      <td>2.99</td>\n",
       "      <td>4</td>\n",
       "    </tr>\n",
       "    <tr>\n",
       "      <th>855</th>\n",
       "      <td>TITANS JERK</td>\n",
       "      <td>Sci-Fi</td>\n",
       "      <td>PG</td>\n",
       "      <td>normal</td>\n",
       "      <td>4.99</td>\n",
       "      <td>4</td>\n",
       "    </tr>\n",
       "  </tbody>\n",
       "</table>\n",
       "</div>"
      ],
      "text/plain": [
       "                    title  category rating    length rental_rate  \\\n",
       "836  SWEETHEARTS SUSPECTS  Children      G    normal        0.99   \n",
       "477      KRAMER CHOCOLATE    Sports      R  extended        2.99   \n",
       "350        GOSFORD DONNIE    Action      G      long        4.99   \n",
       "891     VACATION BOONDOCK    Sci-Fi      R      long        2.99   \n",
       "855           TITANS JERK    Sci-Fi     PG    normal        4.99   \n",
       "\n",
       "    rental_duration  \n",
       "836               3  \n",
       "477               3  \n",
       "350               5  \n",
       "891               4  \n",
       "855               4  "
      ]
     },
     "execution_count": 292,
     "metadata": {},
     "output_type": "execute_result"
    }
   ],
   "source": [
    "X_test.head()"
   ]
  },
  {
   "cell_type": "code",
   "execution_count": 293,
   "id": "44b453cb",
   "metadata": {
    "ExecuteTime": {
     "end_time": "2022-09-22T21:02:34.859409Z",
     "start_time": "2022-09-22T21:02:34.828381Z"
    }
   },
   "outputs": [
    {
     "name": "stderr",
     "output_type": "stream",
     "text": [
      "C:\\Users\\VideoMachine\\anaconda3\\lib\\site-packages\\sklearn\\utils\\deprecation.py:87: FutureWarning: Function get_feature_names is deprecated; get_feature_names is deprecated in 1.0 and will be removed in 1.2. Please use get_feature_names_out instead.\n",
      "  warnings.warn(msg, category=FutureWarning)\n"
     ]
    },
    {
     "data": {
      "text/html": [
       "<div>\n",
       "<style scoped>\n",
       "    .dataframe tbody tr th:only-of-type {\n",
       "        vertical-align: middle;\n",
       "    }\n",
       "\n",
       "    .dataframe tbody tr th {\n",
       "        vertical-align: top;\n",
       "    }\n",
       "\n",
       "    .dataframe thead th {\n",
       "        text-align: right;\n",
       "    }\n",
       "</style>\n",
       "<table border=\"1\" class=\"dataframe\">\n",
       "  <thead>\n",
       "    <tr style=\"text-align: right;\">\n",
       "      <th></th>\n",
       "      <th>title_ACE GOLDFINGER</th>\n",
       "      <th>title_ADAPTATION HOLES</th>\n",
       "      <th>title_AFFAIR PREJUDICE</th>\n",
       "      <th>title_AFRICAN EGG</th>\n",
       "      <th>title_AGENT TRUMAN</th>\n",
       "      <th>title_AIRPLANE SIERRA</th>\n",
       "      <th>title_AIRPORT POLLOCK</th>\n",
       "      <th>title_ALABAMA DEVIL</th>\n",
       "      <th>title_ALADDIN CALENDAR</th>\n",
       "      <th>title_ALAMO VIDEOTAPE</th>\n",
       "      <th>...</th>\n",
       "      <th>rating_R</th>\n",
       "      <th>length_long</th>\n",
       "      <th>length_normal</th>\n",
       "      <th>length_short</th>\n",
       "      <th>rental_rate_2.99</th>\n",
       "      <th>rental_rate_4.99</th>\n",
       "      <th>rental_duration_4</th>\n",
       "      <th>rental_duration_5</th>\n",
       "      <th>rental_duration_6</th>\n",
       "      <th>rental_duration_7</th>\n",
       "    </tr>\n",
       "  </thead>\n",
       "  <tbody>\n",
       "    <tr>\n",
       "      <th>0</th>\n",
       "      <td>0.0</td>\n",
       "      <td>0.0</td>\n",
       "      <td>0.0</td>\n",
       "      <td>0.0</td>\n",
       "      <td>0.0</td>\n",
       "      <td>0.0</td>\n",
       "      <td>0.0</td>\n",
       "      <td>0.0</td>\n",
       "      <td>0.0</td>\n",
       "      <td>0.0</td>\n",
       "      <td>...</td>\n",
       "      <td>0.0</td>\n",
       "      <td>0.0</td>\n",
       "      <td>0.0</td>\n",
       "      <td>1.0</td>\n",
       "      <td>0.0</td>\n",
       "      <td>1.0</td>\n",
       "      <td>1.0</td>\n",
       "      <td>0.0</td>\n",
       "      <td>0.0</td>\n",
       "      <td>0.0</td>\n",
       "    </tr>\n",
       "    <tr>\n",
       "      <th>1</th>\n",
       "      <td>0.0</td>\n",
       "      <td>0.0</td>\n",
       "      <td>0.0</td>\n",
       "      <td>0.0</td>\n",
       "      <td>0.0</td>\n",
       "      <td>0.0</td>\n",
       "      <td>0.0</td>\n",
       "      <td>0.0</td>\n",
       "      <td>0.0</td>\n",
       "      <td>0.0</td>\n",
       "      <td>...</td>\n",
       "      <td>0.0</td>\n",
       "      <td>0.0</td>\n",
       "      <td>0.0</td>\n",
       "      <td>1.0</td>\n",
       "      <td>0.0</td>\n",
       "      <td>0.0</td>\n",
       "      <td>1.0</td>\n",
       "      <td>0.0</td>\n",
       "      <td>0.0</td>\n",
       "      <td>0.0</td>\n",
       "    </tr>\n",
       "    <tr>\n",
       "      <th>2</th>\n",
       "      <td>0.0</td>\n",
       "      <td>0.0</td>\n",
       "      <td>0.0</td>\n",
       "      <td>0.0</td>\n",
       "      <td>0.0</td>\n",
       "      <td>0.0</td>\n",
       "      <td>0.0</td>\n",
       "      <td>0.0</td>\n",
       "      <td>0.0</td>\n",
       "      <td>0.0</td>\n",
       "      <td>...</td>\n",
       "      <td>0.0</td>\n",
       "      <td>0.0</td>\n",
       "      <td>0.0</td>\n",
       "      <td>1.0</td>\n",
       "      <td>0.0</td>\n",
       "      <td>0.0</td>\n",
       "      <td>1.0</td>\n",
       "      <td>0.0</td>\n",
       "      <td>0.0</td>\n",
       "      <td>0.0</td>\n",
       "    </tr>\n",
       "    <tr>\n",
       "      <th>3</th>\n",
       "      <td>0.0</td>\n",
       "      <td>0.0</td>\n",
       "      <td>0.0</td>\n",
       "      <td>0.0</td>\n",
       "      <td>0.0</td>\n",
       "      <td>0.0</td>\n",
       "      <td>0.0</td>\n",
       "      <td>0.0</td>\n",
       "      <td>0.0</td>\n",
       "      <td>0.0</td>\n",
       "      <td>...</td>\n",
       "      <td>0.0</td>\n",
       "      <td>0.0</td>\n",
       "      <td>0.0</td>\n",
       "      <td>1.0</td>\n",
       "      <td>0.0</td>\n",
       "      <td>0.0</td>\n",
       "      <td>0.0</td>\n",
       "      <td>0.0</td>\n",
       "      <td>0.0</td>\n",
       "      <td>0.0</td>\n",
       "    </tr>\n",
       "    <tr>\n",
       "      <th>4</th>\n",
       "      <td>0.0</td>\n",
       "      <td>0.0</td>\n",
       "      <td>0.0</td>\n",
       "      <td>0.0</td>\n",
       "      <td>0.0</td>\n",
       "      <td>0.0</td>\n",
       "      <td>0.0</td>\n",
       "      <td>0.0</td>\n",
       "      <td>0.0</td>\n",
       "      <td>0.0</td>\n",
       "      <td>...</td>\n",
       "      <td>0.0</td>\n",
       "      <td>0.0</td>\n",
       "      <td>0.0</td>\n",
       "      <td>1.0</td>\n",
       "      <td>0.0</td>\n",
       "      <td>0.0</td>\n",
       "      <td>1.0</td>\n",
       "      <td>0.0</td>\n",
       "      <td>0.0</td>\n",
       "      <td>0.0</td>\n",
       "    </tr>\n",
       "  </tbody>\n",
       "</table>\n",
       "<p>5 rows × 793 columns</p>\n",
       "</div>"
      ],
      "text/plain": [
       "   title_ACE GOLDFINGER  title_ADAPTATION HOLES  title_AFFAIR PREJUDICE  \\\n",
       "0                   0.0                     0.0                     0.0   \n",
       "1                   0.0                     0.0                     0.0   \n",
       "2                   0.0                     0.0                     0.0   \n",
       "3                   0.0                     0.0                     0.0   \n",
       "4                   0.0                     0.0                     0.0   \n",
       "\n",
       "   title_AFRICAN EGG  title_AGENT TRUMAN  title_AIRPLANE SIERRA  \\\n",
       "0                0.0                 0.0                    0.0   \n",
       "1                0.0                 0.0                    0.0   \n",
       "2                0.0                 0.0                    0.0   \n",
       "3                0.0                 0.0                    0.0   \n",
       "4                0.0                 0.0                    0.0   \n",
       "\n",
       "   title_AIRPORT POLLOCK  title_ALABAMA DEVIL  title_ALADDIN CALENDAR  \\\n",
       "0                    0.0                  0.0                     0.0   \n",
       "1                    0.0                  0.0                     0.0   \n",
       "2                    0.0                  0.0                     0.0   \n",
       "3                    0.0                  0.0                     0.0   \n",
       "4                    0.0                  0.0                     0.0   \n",
       "\n",
       "   title_ALAMO VIDEOTAPE  ...  rating_R  length_long  length_normal  \\\n",
       "0                    0.0  ...       0.0          0.0            0.0   \n",
       "1                    0.0  ...       0.0          0.0            0.0   \n",
       "2                    0.0  ...       0.0          0.0            0.0   \n",
       "3                    0.0  ...       0.0          0.0            0.0   \n",
       "4                    0.0  ...       0.0          0.0            0.0   \n",
       "\n",
       "   length_short  rental_rate_2.99  rental_rate_4.99  rental_duration_4  \\\n",
       "0           1.0               0.0               1.0                1.0   \n",
       "1           1.0               0.0               0.0                1.0   \n",
       "2           1.0               0.0               0.0                1.0   \n",
       "3           1.0               0.0               0.0                0.0   \n",
       "4           1.0               0.0               0.0                1.0   \n",
       "\n",
       "   rental_duration_5  rental_duration_6  rental_duration_7  \n",
       "0                0.0                0.0                0.0  \n",
       "1                0.0                0.0                0.0  \n",
       "2                0.0                0.0                0.0  \n",
       "3                0.0                0.0                0.0  \n",
       "4                0.0                0.0                0.0  \n",
       "\n",
       "[5 rows x 793 columns]"
      ]
     },
     "execution_count": 293,
     "metadata": {},
     "output_type": "execute_result"
    }
   ],
   "source": [
    "# This encoder only will be run one time and will be good for both test and train sets\n",
    "onehotencoder = OneHotEncoder(drop='first', handle_unknown = 'ignore').fit(X_train)\n",
    "\n",
    "# One hot encoder funtion\n",
    "def encode_cats(X_cat):\n",
    "    encoded = onehotencoder.transform(X_cat).toarray()\n",
    "    cols = onehotencoder.get_feature_names(input_features=X_cat.columns)\n",
    "    return pd.DataFrame(encoded, columns=cols)\n",
    "\n",
    "X_train = encode_cats(X_train)\n",
    "X_train.head()"
   ]
  },
  {
   "cell_type": "code",
   "execution_count": 294,
   "id": "5285045e",
   "metadata": {
    "ExecuteTime": {
     "end_time": "2022-09-22T21:02:34.891249Z",
     "start_time": "2022-09-22T21:02:34.860410Z"
    }
   },
   "outputs": [
    {
     "name": "stderr",
     "output_type": "stream",
     "text": [
      "C:\\Users\\VideoMachine\\anaconda3\\lib\\site-packages\\sklearn\\preprocessing\\_encoders.py:170: UserWarning: Found unknown categories in columns [0] during transform. These unknown categories will be encoded as all zeros\n",
      "  warnings.warn(\n",
      "C:\\Users\\VideoMachine\\anaconda3\\lib\\site-packages\\sklearn\\utils\\deprecation.py:87: FutureWarning: Function get_feature_names is deprecated; get_feature_names is deprecated in 1.0 and will be removed in 1.2. Please use get_feature_names_out instead.\n",
      "  warnings.warn(msg, category=FutureWarning)\n"
     ]
    },
    {
     "data": {
      "text/html": [
       "<div>\n",
       "<style scoped>\n",
       "    .dataframe tbody tr th:only-of-type {\n",
       "        vertical-align: middle;\n",
       "    }\n",
       "\n",
       "    .dataframe tbody tr th {\n",
       "        vertical-align: top;\n",
       "    }\n",
       "\n",
       "    .dataframe thead th {\n",
       "        text-align: right;\n",
       "    }\n",
       "</style>\n",
       "<table border=\"1\" class=\"dataframe\">\n",
       "  <thead>\n",
       "    <tr style=\"text-align: right;\">\n",
       "      <th></th>\n",
       "      <th>title_ACE GOLDFINGER</th>\n",
       "      <th>title_ADAPTATION HOLES</th>\n",
       "      <th>title_AFFAIR PREJUDICE</th>\n",
       "      <th>title_AFRICAN EGG</th>\n",
       "      <th>title_AGENT TRUMAN</th>\n",
       "      <th>title_AIRPLANE SIERRA</th>\n",
       "      <th>title_AIRPORT POLLOCK</th>\n",
       "      <th>title_ALABAMA DEVIL</th>\n",
       "      <th>title_ALADDIN CALENDAR</th>\n",
       "      <th>title_ALAMO VIDEOTAPE</th>\n",
       "      <th>...</th>\n",
       "      <th>rating_R</th>\n",
       "      <th>length_long</th>\n",
       "      <th>length_normal</th>\n",
       "      <th>length_short</th>\n",
       "      <th>rental_rate_2.99</th>\n",
       "      <th>rental_rate_4.99</th>\n",
       "      <th>rental_duration_4</th>\n",
       "      <th>rental_duration_5</th>\n",
       "      <th>rental_duration_6</th>\n",
       "      <th>rental_duration_7</th>\n",
       "    </tr>\n",
       "  </thead>\n",
       "  <tbody>\n",
       "    <tr>\n",
       "      <th>0</th>\n",
       "      <td>0.0</td>\n",
       "      <td>0.0</td>\n",
       "      <td>0.0</td>\n",
       "      <td>0.0</td>\n",
       "      <td>0.0</td>\n",
       "      <td>0.0</td>\n",
       "      <td>0.0</td>\n",
       "      <td>0.0</td>\n",
       "      <td>0.0</td>\n",
       "      <td>0.0</td>\n",
       "      <td>...</td>\n",
       "      <td>0.0</td>\n",
       "      <td>0.0</td>\n",
       "      <td>1.0</td>\n",
       "      <td>0.0</td>\n",
       "      <td>0.0</td>\n",
       "      <td>0.0</td>\n",
       "      <td>0.0</td>\n",
       "      <td>0.0</td>\n",
       "      <td>0.0</td>\n",
       "      <td>0.0</td>\n",
       "    </tr>\n",
       "    <tr>\n",
       "      <th>1</th>\n",
       "      <td>0.0</td>\n",
       "      <td>0.0</td>\n",
       "      <td>0.0</td>\n",
       "      <td>0.0</td>\n",
       "      <td>0.0</td>\n",
       "      <td>0.0</td>\n",
       "      <td>0.0</td>\n",
       "      <td>0.0</td>\n",
       "      <td>0.0</td>\n",
       "      <td>0.0</td>\n",
       "      <td>...</td>\n",
       "      <td>1.0</td>\n",
       "      <td>0.0</td>\n",
       "      <td>0.0</td>\n",
       "      <td>0.0</td>\n",
       "      <td>1.0</td>\n",
       "      <td>0.0</td>\n",
       "      <td>0.0</td>\n",
       "      <td>0.0</td>\n",
       "      <td>0.0</td>\n",
       "      <td>0.0</td>\n",
       "    </tr>\n",
       "    <tr>\n",
       "      <th>2</th>\n",
       "      <td>0.0</td>\n",
       "      <td>0.0</td>\n",
       "      <td>0.0</td>\n",
       "      <td>0.0</td>\n",
       "      <td>0.0</td>\n",
       "      <td>0.0</td>\n",
       "      <td>0.0</td>\n",
       "      <td>0.0</td>\n",
       "      <td>0.0</td>\n",
       "      <td>0.0</td>\n",
       "      <td>...</td>\n",
       "      <td>0.0</td>\n",
       "      <td>1.0</td>\n",
       "      <td>0.0</td>\n",
       "      <td>0.0</td>\n",
       "      <td>0.0</td>\n",
       "      <td>1.0</td>\n",
       "      <td>0.0</td>\n",
       "      <td>1.0</td>\n",
       "      <td>0.0</td>\n",
       "      <td>0.0</td>\n",
       "    </tr>\n",
       "    <tr>\n",
       "      <th>3</th>\n",
       "      <td>0.0</td>\n",
       "      <td>0.0</td>\n",
       "      <td>0.0</td>\n",
       "      <td>0.0</td>\n",
       "      <td>0.0</td>\n",
       "      <td>0.0</td>\n",
       "      <td>0.0</td>\n",
       "      <td>0.0</td>\n",
       "      <td>0.0</td>\n",
       "      <td>0.0</td>\n",
       "      <td>...</td>\n",
       "      <td>1.0</td>\n",
       "      <td>1.0</td>\n",
       "      <td>0.0</td>\n",
       "      <td>0.0</td>\n",
       "      <td>1.0</td>\n",
       "      <td>0.0</td>\n",
       "      <td>1.0</td>\n",
       "      <td>0.0</td>\n",
       "      <td>0.0</td>\n",
       "      <td>0.0</td>\n",
       "    </tr>\n",
       "    <tr>\n",
       "      <th>4</th>\n",
       "      <td>0.0</td>\n",
       "      <td>0.0</td>\n",
       "      <td>0.0</td>\n",
       "      <td>0.0</td>\n",
       "      <td>0.0</td>\n",
       "      <td>0.0</td>\n",
       "      <td>0.0</td>\n",
       "      <td>0.0</td>\n",
       "      <td>0.0</td>\n",
       "      <td>0.0</td>\n",
       "      <td>...</td>\n",
       "      <td>0.0</td>\n",
       "      <td>0.0</td>\n",
       "      <td>1.0</td>\n",
       "      <td>0.0</td>\n",
       "      <td>0.0</td>\n",
       "      <td>1.0</td>\n",
       "      <td>1.0</td>\n",
       "      <td>0.0</td>\n",
       "      <td>0.0</td>\n",
       "      <td>0.0</td>\n",
       "    </tr>\n",
       "  </tbody>\n",
       "</table>\n",
       "<p>5 rows × 793 columns</p>\n",
       "</div>"
      ],
      "text/plain": [
       "   title_ACE GOLDFINGER  title_ADAPTATION HOLES  title_AFFAIR PREJUDICE  \\\n",
       "0                   0.0                     0.0                     0.0   \n",
       "1                   0.0                     0.0                     0.0   \n",
       "2                   0.0                     0.0                     0.0   \n",
       "3                   0.0                     0.0                     0.0   \n",
       "4                   0.0                     0.0                     0.0   \n",
       "\n",
       "   title_AFRICAN EGG  title_AGENT TRUMAN  title_AIRPLANE SIERRA  \\\n",
       "0                0.0                 0.0                    0.0   \n",
       "1                0.0                 0.0                    0.0   \n",
       "2                0.0                 0.0                    0.0   \n",
       "3                0.0                 0.0                    0.0   \n",
       "4                0.0                 0.0                    0.0   \n",
       "\n",
       "   title_AIRPORT POLLOCK  title_ALABAMA DEVIL  title_ALADDIN CALENDAR  \\\n",
       "0                    0.0                  0.0                     0.0   \n",
       "1                    0.0                  0.0                     0.0   \n",
       "2                    0.0                  0.0                     0.0   \n",
       "3                    0.0                  0.0                     0.0   \n",
       "4                    0.0                  0.0                     0.0   \n",
       "\n",
       "   title_ALAMO VIDEOTAPE  ...  rating_R  length_long  length_normal  \\\n",
       "0                    0.0  ...       0.0          0.0            1.0   \n",
       "1                    0.0  ...       1.0          0.0            0.0   \n",
       "2                    0.0  ...       0.0          1.0            0.0   \n",
       "3                    0.0  ...       1.0          1.0            0.0   \n",
       "4                    0.0  ...       0.0          0.0            1.0   \n",
       "\n",
       "   length_short  rental_rate_2.99  rental_rate_4.99  rental_duration_4  \\\n",
       "0           0.0               0.0               0.0                0.0   \n",
       "1           0.0               1.0               0.0                0.0   \n",
       "2           0.0               0.0               1.0                0.0   \n",
       "3           0.0               1.0               0.0                1.0   \n",
       "4           0.0               0.0               1.0                1.0   \n",
       "\n",
       "   rental_duration_5  rental_duration_6  rental_duration_7  \n",
       "0                0.0                0.0                0.0  \n",
       "1                0.0                0.0                0.0  \n",
       "2                1.0                0.0                0.0  \n",
       "3                0.0                0.0                0.0  \n",
       "4                0.0                0.0                0.0  \n",
       "\n",
       "[5 rows x 793 columns]"
      ]
     },
     "execution_count": 294,
     "metadata": {},
     "output_type": "execute_result"
    }
   ],
   "source": [
    "X_test = encode_cats(X_test)\n",
    "X_test.head()"
   ]
  },
  {
   "cell_type": "markdown",
   "id": "9e4f1e1b",
   "metadata": {},
   "source": [
    "## Using Logistic regression model"
   ]
  },
  {
   "cell_type": "code",
   "execution_count": 295,
   "id": "e5a93b94",
   "metadata": {
    "ExecuteTime": {
     "end_time": "2022-09-22T21:02:34.922468Z",
     "start_time": "2022-09-22T21:02:34.892440Z"
    }
   },
   "outputs": [],
   "source": [
    "from sklearn.linear_model import LogisticRegression\n",
    "\n",
    "classification = LogisticRegression(solver='lbfgs').fit(X_train, y_train)\n",
    "predictions_clf = classification.predict(X_test)"
   ]
  },
  {
   "cell_type": "markdown",
   "id": "836f131d",
   "metadata": {
    "ExecuteTime": {
     "end_time": "2022-09-22T20:33:48.253637Z",
     "start_time": "2022-09-22T20:33:48.247632Z"
    }
   },
   "source": [
    "## Using Kneighbors Classifier"
   ]
  },
  {
   "cell_type": "code",
   "execution_count": 296,
   "id": "5c02ac68",
   "metadata": {
    "ExecuteTime": {
     "end_time": "2022-09-22T21:02:34.954496Z",
     "start_time": "2022-09-22T21:02:34.923469Z"
    }
   },
   "outputs": [],
   "source": [
    "from sklearn import neighbors\n",
    "\n",
    "classification_K = neighbors.KNeighborsClassifier(n_neighbors=4, weights='uniform')\n",
    "classification_K.fit(X_train, y_train)\n",
    "predictions_clf_K = classification_K.predict(X_test)"
   ]
  },
  {
   "cell_type": "markdown",
   "id": "a06723e9",
   "metadata": {},
   "source": [
    "## Evaluation metrics"
   ]
  },
  {
   "cell_type": "code",
   "execution_count": 317,
   "id": "dd3dd9da",
   "metadata": {
    "ExecuteTime": {
     "end_time": "2022-09-22T21:27:05.384983Z",
     "start_time": "2022-09-22T21:27:05.351962Z"
    },
    "scrolled": true
   },
   "outputs": [
    {
     "name": "stdout",
     "output_type": "stream",
     "text": [
      "\u001b[1m\u001b[91m\n",
      "       Classification scores\n",
      "\u001b[0m\n",
      "Logistic regression Model:  70.83 %\n",
      "Kneighbors classifier:      54.17 %\n"
     ]
    }
   ],
   "source": [
    "print('\\033[1m'+'\\033[91m'+'\\n       Classification scores\\n'+'\\033[0m')\n",
    "print('Logistic regression Model: ',round(classification.score(X_test, y_test)*100,2),'%')\n",
    "print('Kneighbors classifier:     ',round(classification_K.score(X_test, y_test)*100,2),'%')"
   ]
  },
  {
   "cell_type": "code",
   "execution_count": 314,
   "id": "00a57a63",
   "metadata": {
    "ExecuteTime": {
     "end_time": "2022-09-22T21:26:34.199918Z",
     "start_time": "2022-09-22T21:26:34.189917Z"
    },
    "scrolled": true
   },
   "outputs": [
    {
     "name": "stdout",
     "output_type": "stream",
     "text": [
      "\u001b[1m\u001b[91mTest set quantity results:\n",
      "\n",
      " \u001b[0m 1.0    136\n",
      "0.0     56\n",
      "Name: rented_may, dtype: int64\n",
      "\u001b[1m\u001b[91m\n",
      "Logistic regression Model:\n",
      " \u001b[0m 1.0    184\n",
      "0.0      8\n",
      "dtype: int64\n",
      "\u001b[1m\u001b[91m\n",
      "Kneighbors classifier:    \n",
      " \u001b[0m 1.0    142\n",
      "0.0     50\n",
      "dtype: int64\n"
     ]
    }
   ],
   "source": [
    "print('\\033[1m'+'\\033[91m'+'Test set quantity results:\\n\\n '+'\\033[0m',pd.Series(y_test).value_counts())\n",
    "print('\\033[1m'+'\\033[91m'+'\\nLogistic regression Model:\\n '+'\\033[0m',pd.Series(predictions_clf).value_counts())\n",
    "print('\\033[1m'+'\\033[91m'+'\\nKneighbors classifier:    \\n '+'\\033[0m',pd.Series(predictions_clf_K).value_counts())"
   ]
  },
  {
   "cell_type": "markdown",
   "id": "d0c660e8",
   "metadata": {},
   "source": [
    "### Confusion Matrix"
   ]
  },
  {
   "cell_type": "code",
   "execution_count": 312,
   "id": "21ee3253",
   "metadata": {
    "ExecuteTime": {
     "end_time": "2022-09-22T21:25:58.138715Z",
     "start_time": "2022-09-22T21:25:58.123710Z"
    }
   },
   "outputs": [
    {
     "name": "stdout",
     "output_type": "stream",
     "text": [
      "\u001b[1m\u001b[91m      Logistic regression\n",
      "\u001b[0m\n",
      "             Predicted Labels\n",
      "             |   A    |     B\n",
      "             -------------------\n",
      "True label A |  4     |    52\n",
      "             -------------------\n",
      "           B |  4     |   132\n"
     ]
    }
   ],
   "source": [
    "print('\\033[1m'+'\\033[91m'+'      Logistic regression\\n'+'\\033[0m')\n",
    "array = confusion_matrix(y_test, predictions_clf)\n",
    "print('             Predicted Labels')\n",
    "print('             |   A    |     B')    \n",
    "print('             -------------------')\n",
    "print('True label A | ',array[0][0],'    |   ', array[0][1])\n",
    "print('             -------------------')\n",
    "print('           B | ',array[1][0],'    |  ', array[1][1])"
   ]
  },
  {
   "cell_type": "code",
   "execution_count": 313,
   "id": "1861a27b",
   "metadata": {
    "ExecuteTime": {
     "end_time": "2022-09-22T21:26:00.666693Z",
     "start_time": "2022-09-22T21:26:00.661697Z"
    },
    "scrolled": true
   },
   "outputs": [
    {
     "name": "stdout",
     "output_type": "stream",
     "text": [
      "\u001b[1m\u001b[91m      Kneighbors classifier\n",
      "\u001b[0m\n",
      "             Predicted Labels\n",
      "             |   A    |     B\n",
      "             -------------------\n",
      "True label A |  9     |    47\n",
      "             -------------------\n",
      "           B |  41    |    95\n"
     ]
    }
   ],
   "source": [
    "print('\\033[1m'+'\\033[91m'+'      Kneighbors classifier\\n'+'\\033[0m')\n",
    "array = confusion_matrix(y_test, predictions_clf_K)\n",
    "print('             Predicted Labels')\n",
    "print('             |   A    |     B')    \n",
    "print('             -------------------')\n",
    "print('True label A | ',array[0][0],'    |   ', array[0][1])\n",
    "print('             -------------------')\n",
    "print('           B | ',array[1][0],'   |   ', array[1][1])"
   ]
  },
  {
   "cell_type": "markdown",
   "id": "9ee48ee1",
   "metadata": {},
   "source": [
    "### Summary\n",
    "\n",
    "Looking at the scores the logistics regression is better no doubt with 70%, but if we look at the quantity of 0's and 1's looking at the expected results quantities and comparing them to both methods quantities of each results we get the idea that the Kneighbors results are almost on spot just missing 6 results, although keeping in mind that the order of the results matters because in this case it will be associated with a particular movie we can see that Kneighbors is pretty un-usable missing 88 results, while the Logistic regression \"only\" misses 56.\n",
    "\n",
    "I can't say that any method is really usable but I can say that the logistics regression in this case is more reliable, but I wouldn't lean heavilly on this model to make any business decision, it is tough a good rough guide.\n",
    "\n",
    "One thing that I think that this model shows us is that the very nature of renting videos changes with time with new releases and that people normally want to rent new movies.\n"
   ]
  }
 ],
 "metadata": {
  "kernelspec": {
   "display_name": "Python 3 (ipykernel)",
   "language": "python",
   "name": "python3"
  },
  "language_info": {
   "codemirror_mode": {
    "name": "ipython",
    "version": 3
   },
   "file_extension": ".py",
   "mimetype": "text/x-python",
   "name": "python",
   "nbconvert_exporter": "python",
   "pygments_lexer": "ipython3",
   "version": "3.9.12"
  },
  "toc": {
   "base_numbering": 1,
   "nav_menu": {},
   "number_sections": true,
   "sideBar": true,
   "skip_h1_title": false,
   "title_cell": "Table of Contents",
   "title_sidebar": "Contents",
   "toc_cell": false,
   "toc_position": {},
   "toc_section_display": true,
   "toc_window_display": false
  }
 },
 "nbformat": 4,
 "nbformat_minor": 5
}
