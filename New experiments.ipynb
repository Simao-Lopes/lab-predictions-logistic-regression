{
 "cells": [
  {
   "cell_type": "markdown",
   "id": "a015c996",
   "metadata": {},
   "source": [
    "# Lab | Making predictions with logistic regression\n",
    "\n",
    "In this lab, you will be using the [Sakila](https://dev.mysql.com/doc/sakila/en/) database of movie rentals.\n",
    "\n",
    "In order to optimize our inventory, we would like to know which films will be rented next month and we are asked to create a model to predict it.\n",
    "\n",
    "\n",
    "### Instructions\n",
    "\n",
    "1. Create a query or queries to extract the information you think may be relevant for building the prediction model. It should include some film features and some rental features. Use the data from 2005.\n",
    "2. Create a query to get the list of films and a boolean indicating if it was rented last month (May 2005). This would be our target variable.\n",
    "3. Read the data into a Pandas dataframe.\n",
    "4. Analyze extracted features and transform them. You may need to encode some categorical variables, or scale numerical variables.\n",
    "5. Create a logistic regression model to predict this variable from the cleaned data.\n",
    "6. Evaluate the results.\n"
   ]
  },
  {
   "cell_type": "markdown",
   "id": "cc5b1c43",
   "metadata": {},
   "source": [
    "## Import libraries and get database password"
   ]
  },
  {
   "cell_type": "code",
   "execution_count": 95,
   "id": "c1220916",
   "metadata": {
    "ExecuteTime": {
     "end_time": "2022-09-23T13:30:56.491006Z",
     "start_time": "2022-09-23T13:30:54.557892Z"
    }
   },
   "outputs": [
    {
     "name": "stdout",
     "output_type": "stream",
     "text": [
      "········\n"
     ]
    }
   ],
   "source": [
    "from sklearn.metrics import confusion_matrix\n",
    "from sklearn.model_selection import train_test_split\n",
    "from sklearn.preprocessing import OneHotEncoder\n",
    "import pymysql\n",
    "from sqlalchemy import create_engine\n",
    "import pandas as pd\n",
    "import getpass  # To get the password without showing the input\n",
    "\n",
    "password = getpass.getpass()"
   ]
  },
  {
   "cell_type": "markdown",
   "id": "34fd4e78",
   "metadata": {},
   "source": [
    "## Get database data through SQL query"
   ]
  },
  {
   "cell_type": "code",
   "execution_count": 96,
   "id": "4cdbde44",
   "metadata": {
    "ExecuteTime": {
     "end_time": "2022-09-23T13:31:00.958978Z",
     "start_time": "2022-09-23T13:31:00.877388Z"
    }
   },
   "outputs": [
    {
     "data": {
      "text/html": [
       "<div>\n",
       "<style scoped>\n",
       "    .dataframe tbody tr th:only-of-type {\n",
       "        vertical-align: middle;\n",
       "    }\n",
       "\n",
       "    .dataframe tbody tr th {\n",
       "        vertical-align: top;\n",
       "    }\n",
       "\n",
       "    .dataframe thead th {\n",
       "        text-align: right;\n",
       "    }\n",
       "</style>\n",
       "<table border=\"1\" class=\"dataframe\">\n",
       "  <thead>\n",
       "    <tr style=\"text-align: right;\">\n",
       "      <th></th>\n",
       "      <th>title</th>\n",
       "      <th>rental_duration</th>\n",
       "      <th>category</th>\n",
       "      <th>rental_rate</th>\n",
       "      <th>length</th>\n",
       "      <th>replacement_cost</th>\n",
       "      <th>rating</th>\n",
       "      <th>special_features</th>\n",
       "      <th>rented_may</th>\n",
       "    </tr>\n",
       "  </thead>\n",
       "  <tbody>\n",
       "    <tr>\n",
       "      <th>0</th>\n",
       "      <td>ACADEMY DINOSAUR</td>\n",
       "      <td>6</td>\n",
       "      <td>Documentary</td>\n",
       "      <td>0.99</td>\n",
       "      <td>86</td>\n",
       "      <td>20.99</td>\n",
       "      <td>PG</td>\n",
       "      <td>Deleted Scenes,Behind the Scenes</td>\n",
       "      <td>1.0</td>\n",
       "    </tr>\n",
       "    <tr>\n",
       "      <th>1</th>\n",
       "      <td>ACE GOLDFINGER</td>\n",
       "      <td>3</td>\n",
       "      <td>Horror</td>\n",
       "      <td>4.99</td>\n",
       "      <td>48</td>\n",
       "      <td>12.99</td>\n",
       "      <td>G</td>\n",
       "      <td>Trailers,Deleted Scenes</td>\n",
       "      <td>NaN</td>\n",
       "    </tr>\n",
       "    <tr>\n",
       "      <th>2</th>\n",
       "      <td>ADAPTATION HOLES</td>\n",
       "      <td>7</td>\n",
       "      <td>Documentary</td>\n",
       "      <td>2.99</td>\n",
       "      <td>50</td>\n",
       "      <td>18.99</td>\n",
       "      <td>NC-17</td>\n",
       "      <td>Trailers,Deleted Scenes</td>\n",
       "      <td>1.0</td>\n",
       "    </tr>\n",
       "    <tr>\n",
       "      <th>3</th>\n",
       "      <td>AFFAIR PREJUDICE</td>\n",
       "      <td>5</td>\n",
       "      <td>Horror</td>\n",
       "      <td>2.99</td>\n",
       "      <td>117</td>\n",
       "      <td>26.99</td>\n",
       "      <td>G</td>\n",
       "      <td>Commentaries,Behind the Scenes</td>\n",
       "      <td>1.0</td>\n",
       "    </tr>\n",
       "    <tr>\n",
       "      <th>4</th>\n",
       "      <td>AFRICAN EGG</td>\n",
       "      <td>6</td>\n",
       "      <td>Family</td>\n",
       "      <td>2.99</td>\n",
       "      <td>130</td>\n",
       "      <td>22.99</td>\n",
       "      <td>G</td>\n",
       "      <td>Deleted Scenes</td>\n",
       "      <td>1.0</td>\n",
       "    </tr>\n",
       "  </tbody>\n",
       "</table>\n",
       "</div>"
      ],
      "text/plain": [
       "              title  rental_duration     category  rental_rate  length  \\\n",
       "0  ACADEMY DINOSAUR                6  Documentary         0.99      86   \n",
       "1    ACE GOLDFINGER                3       Horror         4.99      48   \n",
       "2  ADAPTATION HOLES                7  Documentary         2.99      50   \n",
       "3  AFFAIR PREJUDICE                5       Horror         2.99     117   \n",
       "4       AFRICAN EGG                6       Family         2.99     130   \n",
       "\n",
       "   replacement_cost rating                  special_features  rented_may  \n",
       "0             20.99     PG  Deleted Scenes,Behind the Scenes         1.0  \n",
       "1             12.99      G           Trailers,Deleted Scenes         NaN  \n",
       "2             18.99  NC-17           Trailers,Deleted Scenes         1.0  \n",
       "3             26.99      G    Commentaries,Behind the Scenes         1.0  \n",
       "4             22.99      G                    Deleted Scenes         1.0  "
      ]
     },
     "execution_count": 96,
     "metadata": {},
     "output_type": "execute_result"
    }
   ],
   "source": [
    "# get the data\n",
    "connection_string = 'mysql+pymysql://root:' + password + '@localhost/sakila'\n",
    "engine = create_engine(connection_string)\n",
    "query = ''' \n",
    "            select title, rental_duration, name as category, rental_rate, length, replacement_cost, rating, special_features, rented_may\n",
    "            from(\n",
    "            select film_id,\n",
    "            case\n",
    "            when month(rental_date) = 5 then True\n",
    "            else False\n",
    "            end as rented_may\n",
    "            from rental\n",
    "            join inventory using(inventory_id)\n",
    "            join film using(film_id)\n",
    "            join film_category using(film_id)\n",
    "            join category using (category_id)\n",
    "            where year(rental_date) = 2005 and month(rental_date) = 5\n",
    "            group by film_id) t1\n",
    "            right join(\n",
    "            select film_id, title, rental_rate, length, replacement_cost, rating, special_features, name, rental_duration\n",
    "            from film\n",
    "            join film_category using (film_id)\n",
    "            join category using (category_id)\n",
    "            group by film_id            \n",
    "            ) t2\n",
    "            using (film_id)\n",
    "            order by title asc'''\n",
    "\n",
    "data = pd.read_sql_query(query, engine)\n",
    "data.head(5)"
   ]
  },
  {
   "cell_type": "code",
   "execution_count": 97,
   "id": "a7604669",
   "metadata": {
    "ExecuteTime": {
     "end_time": "2022-09-23T13:31:00.974655Z",
     "start_time": "2022-09-23T13:31:00.961982Z"
    }
   },
   "outputs": [
    {
     "data": {
      "text/plain": [
       "title                object\n",
       "rental_duration       int64\n",
       "category             object\n",
       "rental_rate         float64\n",
       "length                int64\n",
       "replacement_cost    float64\n",
       "rating               object\n",
       "special_features     object\n",
       "rented_may          float64\n",
       "dtype: object"
      ]
     },
     "execution_count": 97,
     "metadata": {},
     "output_type": "execute_result"
    }
   ],
   "source": [
    "# Checking data types of columns\n",
    "data.dtypes"
   ]
  },
  {
   "cell_type": "code",
   "execution_count": 98,
   "id": "b8c54fe9",
   "metadata": {
    "ExecuteTime": {
     "end_time": "2022-09-23T13:31:00.989916Z",
     "start_time": "2022-09-23T13:31:00.975656Z"
    },
    "scrolled": true
   },
   "outputs": [
    {
     "data": {
      "text/plain": [
       "20.99    57\n",
       "22.99    55\n",
       "12.99    55\n",
       "21.99    55\n",
       "13.99    55\n",
       "27.99    53\n",
       "29.99    53\n",
       "14.99    51\n",
       "19.99    50\n",
       "10.99    49\n",
       "11.99    49\n",
       "17.99    47\n",
       "26.99    46\n",
       "23.99    45\n",
       "25.99    43\n",
       "18.99    42\n",
       "28.99    41\n",
       "9.99     41\n",
       "24.99    38\n",
       "16.99    38\n",
       "15.99    37\n",
       "Name: replacement_cost, dtype: int64"
      ]
     },
     "execution_count": 98,
     "metadata": {},
     "output_type": "execute_result"
    }
   ],
   "source": [
    "# drop this column\n",
    "data['replacement_cost'].value_counts()"
   ]
  },
  {
   "cell_type": "code",
   "execution_count": 99,
   "id": "4a913275",
   "metadata": {
    "ExecuteTime": {
     "end_time": "2022-09-23T13:31:01.005877Z",
     "start_time": "2022-09-23T13:31:00.992865Z"
    }
   },
   "outputs": [
    {
     "data": {
      "text/plain": [
       "6    212\n",
       "3    203\n",
       "4    203\n",
       "7    191\n",
       "5    191\n",
       "Name: rental_duration, dtype: int64"
      ]
     },
     "execution_count": 99,
     "metadata": {},
     "output_type": "execute_result"
    }
   ],
   "source": [
    "# Has to be categorized\n",
    "data['rental_duration'].value_counts()"
   ]
  },
  {
   "cell_type": "code",
   "execution_count": 100,
   "id": "31847b91",
   "metadata": {
    "ExecuteTime": {
     "end_time": "2022-09-23T13:31:01.021888Z",
     "start_time": "2022-09-23T13:31:01.006877Z"
    }
   },
   "outputs": [
    {
     "data": {
      "text/plain": [
       "0.99    341\n",
       "4.99    336\n",
       "2.99    323\n",
       "Name: rental_rate, dtype: int64"
      ]
     },
     "execution_count": 100,
     "metadata": {},
     "output_type": "execute_result"
    }
   ],
   "source": [
    "# Has to be categorized\n",
    "data['rental_rate'].value_counts()"
   ]
  },
  {
   "cell_type": "code",
   "execution_count": 101,
   "id": "2ce87eb2",
   "metadata": {
    "ExecuteTime": {
     "end_time": "2022-09-23T13:31:01.037903Z",
     "start_time": "2022-09-23T13:31:01.022890Z"
    }
   },
   "outputs": [
    {
     "data": {
      "text/plain": [
       "count    1000.000000\n",
       "mean      115.272000\n",
       "std        40.426332\n",
       "min        46.000000\n",
       "25%        80.000000\n",
       "50%       114.000000\n",
       "75%       149.250000\n",
       "max       185.000000\n",
       "Name: length, dtype: float64"
      ]
     },
     "execution_count": 101,
     "metadata": {},
     "output_type": "execute_result"
    }
   ],
   "source": [
    "# Bin the movies length with the standard 0,90,120,150-max durations\n",
    "data['length'].describe()"
   ]
  },
  {
   "cell_type": "code",
   "execution_count": 102,
   "id": "3a847b4d",
   "metadata": {
    "ExecuteTime": {
     "end_time": "2022-09-23T13:31:01.053917Z",
     "start_time": "2022-09-23T13:31:01.040905Z"
    }
   },
   "outputs": [
    {
     "data": {
      "text/plain": [
       "title                 0\n",
       "rental_duration       0\n",
       "category              0\n",
       "rental_rate           0\n",
       "length                0\n",
       "replacement_cost      0\n",
       "rating                0\n",
       "special_features      0\n",
       "rented_may          314\n",
       "dtype: int64"
      ]
     },
     "execution_count": 102,
     "metadata": {},
     "output_type": "execute_result"
    }
   ],
   "source": [
    "# Checking for undisired nans\n",
    "data.isna().sum()"
   ]
  },
  {
   "cell_type": "markdown",
   "id": "7b81ad02",
   "metadata": {},
   "source": [
    "The Nan's in rented_may actually represent that the movie wasn't rented in may, since this is a boolean field we are going to  fill it with 0 instead of dropping."
   ]
  },
  {
   "cell_type": "code",
   "execution_count": 103,
   "id": "26f66d20",
   "metadata": {
    "ExecuteTime": {
     "end_time": "2022-09-23T13:31:01.069934Z",
     "start_time": "2022-09-23T13:31:01.054918Z"
    }
   },
   "outputs": [],
   "source": [
    "data['rented_may'] = data['rented_may'].fillna(0)"
   ]
  },
  {
   "cell_type": "code",
   "execution_count": 104,
   "id": "98b41782",
   "metadata": {
    "ExecuteTime": {
     "end_time": "2022-09-23T13:31:01.085946Z",
     "start_time": "2022-09-23T13:31:01.071935Z"
    }
   },
   "outputs": [
    {
     "data": {
      "text/html": [
       "<div>\n",
       "<style scoped>\n",
       "    .dataframe tbody tr th:only-of-type {\n",
       "        vertical-align: middle;\n",
       "    }\n",
       "\n",
       "    .dataframe tbody tr th {\n",
       "        vertical-align: top;\n",
       "    }\n",
       "\n",
       "    .dataframe thead th {\n",
       "        text-align: right;\n",
       "    }\n",
       "</style>\n",
       "<table border=\"1\" class=\"dataframe\">\n",
       "  <thead>\n",
       "    <tr style=\"text-align: right;\">\n",
       "      <th></th>\n",
       "      <th>title</th>\n",
       "      <th>rental_duration</th>\n",
       "      <th>category</th>\n",
       "      <th>rental_rate</th>\n",
       "      <th>length</th>\n",
       "      <th>replacement_cost</th>\n",
       "      <th>rating</th>\n",
       "      <th>special_features</th>\n",
       "      <th>rented_may</th>\n",
       "    </tr>\n",
       "  </thead>\n",
       "  <tbody>\n",
       "    <tr>\n",
       "      <th>0</th>\n",
       "      <td>ACADEMY DINOSAUR</td>\n",
       "      <td>6</td>\n",
       "      <td>Documentary</td>\n",
       "      <td>0.99</td>\n",
       "      <td>86</td>\n",
       "      <td>20.99</td>\n",
       "      <td>PG</td>\n",
       "      <td>Deleted Scenes,Behind the Scenes</td>\n",
       "      <td>1.0</td>\n",
       "    </tr>\n",
       "    <tr>\n",
       "      <th>1</th>\n",
       "      <td>ACE GOLDFINGER</td>\n",
       "      <td>3</td>\n",
       "      <td>Horror</td>\n",
       "      <td>4.99</td>\n",
       "      <td>48</td>\n",
       "      <td>12.99</td>\n",
       "      <td>G</td>\n",
       "      <td>Trailers,Deleted Scenes</td>\n",
       "      <td>0.0</td>\n",
       "    </tr>\n",
       "    <tr>\n",
       "      <th>2</th>\n",
       "      <td>ADAPTATION HOLES</td>\n",
       "      <td>7</td>\n",
       "      <td>Documentary</td>\n",
       "      <td>2.99</td>\n",
       "      <td>50</td>\n",
       "      <td>18.99</td>\n",
       "      <td>NC-17</td>\n",
       "      <td>Trailers,Deleted Scenes</td>\n",
       "      <td>1.0</td>\n",
       "    </tr>\n",
       "    <tr>\n",
       "      <th>3</th>\n",
       "      <td>AFFAIR PREJUDICE</td>\n",
       "      <td>5</td>\n",
       "      <td>Horror</td>\n",
       "      <td>2.99</td>\n",
       "      <td>117</td>\n",
       "      <td>26.99</td>\n",
       "      <td>G</td>\n",
       "      <td>Commentaries,Behind the Scenes</td>\n",
       "      <td>1.0</td>\n",
       "    </tr>\n",
       "    <tr>\n",
       "      <th>4</th>\n",
       "      <td>AFRICAN EGG</td>\n",
       "      <td>6</td>\n",
       "      <td>Family</td>\n",
       "      <td>2.99</td>\n",
       "      <td>130</td>\n",
       "      <td>22.99</td>\n",
       "      <td>G</td>\n",
       "      <td>Deleted Scenes</td>\n",
       "      <td>1.0</td>\n",
       "    </tr>\n",
       "  </tbody>\n",
       "</table>\n",
       "</div>"
      ],
      "text/plain": [
       "              title  rental_duration     category  rental_rate  length  \\\n",
       "0  ACADEMY DINOSAUR                6  Documentary         0.99      86   \n",
       "1    ACE GOLDFINGER                3       Horror         4.99      48   \n",
       "2  ADAPTATION HOLES                7  Documentary         2.99      50   \n",
       "3  AFFAIR PREJUDICE                5       Horror         2.99     117   \n",
       "4       AFRICAN EGG                6       Family         2.99     130   \n",
       "\n",
       "   replacement_cost rating                  special_features  rented_may  \n",
       "0             20.99     PG  Deleted Scenes,Behind the Scenes         1.0  \n",
       "1             12.99      G           Trailers,Deleted Scenes         0.0  \n",
       "2             18.99  NC-17           Trailers,Deleted Scenes         1.0  \n",
       "3             26.99      G    Commentaries,Behind the Scenes         1.0  \n",
       "4             22.99      G                    Deleted Scenes         1.0  "
      ]
     },
     "execution_count": 104,
     "metadata": {},
     "output_type": "execute_result"
    }
   ],
   "source": [
    "data.head()"
   ]
  },
  {
   "cell_type": "code",
   "execution_count": 105,
   "id": "a925a5e9",
   "metadata": {
    "ExecuteTime": {
     "end_time": "2022-09-23T13:31:01.101377Z",
     "start_time": "2022-09-23T13:31:01.087948Z"
    }
   },
   "outputs": [
    {
     "data": {
      "text/html": [
       "<div>\n",
       "<style scoped>\n",
       "    .dataframe tbody tr th:only-of-type {\n",
       "        vertical-align: middle;\n",
       "    }\n",
       "\n",
       "    .dataframe tbody tr th {\n",
       "        vertical-align: top;\n",
       "    }\n",
       "\n",
       "    .dataframe thead th {\n",
       "        text-align: right;\n",
       "    }\n",
       "</style>\n",
       "<table border=\"1\" class=\"dataframe\">\n",
       "  <thead>\n",
       "    <tr style=\"text-align: right;\">\n",
       "      <th></th>\n",
       "      <th>title</th>\n",
       "      <th>category</th>\n",
       "      <th>rating</th>\n",
       "      <th>length</th>\n",
       "      <th>rental_rate</th>\n",
       "      <th>replacement_cost</th>\n",
       "      <th>rental_duration</th>\n",
       "      <th>rented_may</th>\n",
       "    </tr>\n",
       "  </thead>\n",
       "  <tbody>\n",
       "    <tr>\n",
       "      <th>0</th>\n",
       "      <td>ACADEMY DINOSAUR</td>\n",
       "      <td>Documentary</td>\n",
       "      <td>PG</td>\n",
       "      <td>86</td>\n",
       "      <td>0.99</td>\n",
       "      <td>20.99</td>\n",
       "      <td>6</td>\n",
       "      <td>1.0</td>\n",
       "    </tr>\n",
       "    <tr>\n",
       "      <th>1</th>\n",
       "      <td>ACE GOLDFINGER</td>\n",
       "      <td>Horror</td>\n",
       "      <td>G</td>\n",
       "      <td>48</td>\n",
       "      <td>4.99</td>\n",
       "      <td>12.99</td>\n",
       "      <td>3</td>\n",
       "      <td>0.0</td>\n",
       "    </tr>\n",
       "    <tr>\n",
       "      <th>2</th>\n",
       "      <td>ADAPTATION HOLES</td>\n",
       "      <td>Documentary</td>\n",
       "      <td>NC-17</td>\n",
       "      <td>50</td>\n",
       "      <td>2.99</td>\n",
       "      <td>18.99</td>\n",
       "      <td>7</td>\n",
       "      <td>1.0</td>\n",
       "    </tr>\n",
       "    <tr>\n",
       "      <th>3</th>\n",
       "      <td>AFFAIR PREJUDICE</td>\n",
       "      <td>Horror</td>\n",
       "      <td>G</td>\n",
       "      <td>117</td>\n",
       "      <td>2.99</td>\n",
       "      <td>26.99</td>\n",
       "      <td>5</td>\n",
       "      <td>1.0</td>\n",
       "    </tr>\n",
       "    <tr>\n",
       "      <th>4</th>\n",
       "      <td>AFRICAN EGG</td>\n",
       "      <td>Family</td>\n",
       "      <td>G</td>\n",
       "      <td>130</td>\n",
       "      <td>2.99</td>\n",
       "      <td>22.99</td>\n",
       "      <td>6</td>\n",
       "      <td>1.0</td>\n",
       "    </tr>\n",
       "  </tbody>\n",
       "</table>\n",
       "</div>"
      ],
      "text/plain": [
       "              title     category rating  length  rental_rate  \\\n",
       "0  ACADEMY DINOSAUR  Documentary     PG      86         0.99   \n",
       "1    ACE GOLDFINGER       Horror      G      48         4.99   \n",
       "2  ADAPTATION HOLES  Documentary  NC-17      50         2.99   \n",
       "3  AFFAIR PREJUDICE       Horror      G     117         2.99   \n",
       "4       AFRICAN EGG       Family      G     130         2.99   \n",
       "\n",
       "   replacement_cost  rental_duration  rented_may  \n",
       "0             20.99                6         1.0  \n",
       "1             12.99                3         0.0  \n",
       "2             18.99                7         1.0  \n",
       "3             26.99                5         1.0  \n",
       "4             22.99                6         1.0  "
      ]
     },
     "execution_count": 105,
     "metadata": {},
     "output_type": "execute_result"
    }
   ],
   "source": [
    "# Arranging columns to better understanding\n",
    "data = data[['title','category', 'rating', 'length','rental_rate','replacement_cost','rental_duration','rented_may']]\n",
    "data.head()"
   ]
  },
  {
   "cell_type": "markdown",
   "id": "76b25985",
   "metadata": {},
   "source": [
    "### Summary of actions to take.\n",
    "\n",
    "\n",
    "+ Columns to categorical encode: title, category, rating, rental_rate, rental duration.\n",
    "+ Columns to drop: replacement_cost\n",
    "+ Columns to bin: length\n",
    "\n",
    "+ Target column: rented_may"
   ]
  },
  {
   "cell_type": "code",
   "execution_count": 106,
   "id": "3356da3c",
   "metadata": {
    "ExecuteTime": {
     "end_time": "2022-09-23T13:31:01.116898Z",
     "start_time": "2022-09-23T13:31:01.102378Z"
    },
    "scrolled": false
   },
   "outputs": [
    {
     "data": {
      "text/html": [
       "<div>\n",
       "<style scoped>\n",
       "    .dataframe tbody tr th:only-of-type {\n",
       "        vertical-align: middle;\n",
       "    }\n",
       "\n",
       "    .dataframe tbody tr th {\n",
       "        vertical-align: top;\n",
       "    }\n",
       "\n",
       "    .dataframe thead th {\n",
       "        text-align: right;\n",
       "    }\n",
       "</style>\n",
       "<table border=\"1\" class=\"dataframe\">\n",
       "  <thead>\n",
       "    <tr style=\"text-align: right;\">\n",
       "      <th></th>\n",
       "      <th>title</th>\n",
       "      <th>category</th>\n",
       "      <th>rating</th>\n",
       "      <th>length</th>\n",
       "      <th>rental_rate</th>\n",
       "      <th>rental_duration</th>\n",
       "      <th>rented_may</th>\n",
       "    </tr>\n",
       "  </thead>\n",
       "  <tbody>\n",
       "    <tr>\n",
       "      <th>0</th>\n",
       "      <td>ACADEMY DINOSAUR</td>\n",
       "      <td>Documentary</td>\n",
       "      <td>PG</td>\n",
       "      <td>86</td>\n",
       "      <td>0.99</td>\n",
       "      <td>6</td>\n",
       "      <td>1.0</td>\n",
       "    </tr>\n",
       "    <tr>\n",
       "      <th>1</th>\n",
       "      <td>ACE GOLDFINGER</td>\n",
       "      <td>Horror</td>\n",
       "      <td>G</td>\n",
       "      <td>48</td>\n",
       "      <td>4.99</td>\n",
       "      <td>3</td>\n",
       "      <td>0.0</td>\n",
       "    </tr>\n",
       "    <tr>\n",
       "      <th>2</th>\n",
       "      <td>ADAPTATION HOLES</td>\n",
       "      <td>Documentary</td>\n",
       "      <td>NC-17</td>\n",
       "      <td>50</td>\n",
       "      <td>2.99</td>\n",
       "      <td>7</td>\n",
       "      <td>1.0</td>\n",
       "    </tr>\n",
       "    <tr>\n",
       "      <th>3</th>\n",
       "      <td>AFFAIR PREJUDICE</td>\n",
       "      <td>Horror</td>\n",
       "      <td>G</td>\n",
       "      <td>117</td>\n",
       "      <td>2.99</td>\n",
       "      <td>5</td>\n",
       "      <td>1.0</td>\n",
       "    </tr>\n",
       "    <tr>\n",
       "      <th>4</th>\n",
       "      <td>AFRICAN EGG</td>\n",
       "      <td>Family</td>\n",
       "      <td>G</td>\n",
       "      <td>130</td>\n",
       "      <td>2.99</td>\n",
       "      <td>6</td>\n",
       "      <td>1.0</td>\n",
       "    </tr>\n",
       "  </tbody>\n",
       "</table>\n",
       "</div>"
      ],
      "text/plain": [
       "              title     category rating  length  rental_rate  rental_duration  \\\n",
       "0  ACADEMY DINOSAUR  Documentary     PG      86         0.99                6   \n",
       "1    ACE GOLDFINGER       Horror      G      48         4.99                3   \n",
       "2  ADAPTATION HOLES  Documentary  NC-17      50         2.99                7   \n",
       "3  AFFAIR PREJUDICE       Horror      G     117         2.99                5   \n",
       "4       AFRICAN EGG       Family      G     130         2.99                6   \n",
       "\n",
       "   rented_may  \n",
       "0         1.0  \n",
       "1         0.0  \n",
       "2         1.0  \n",
       "3         1.0  \n",
       "4         1.0  "
      ]
     },
     "execution_count": 106,
     "metadata": {},
     "output_type": "execute_result"
    }
   ],
   "source": [
    "# droping column replacement_cost\n",
    "data = data.drop(['replacement_cost'], axis = 1)\n",
    "data.head()"
   ]
  },
  {
   "cell_type": "code",
   "execution_count": 107,
   "id": "17dbde6b",
   "metadata": {
    "ExecuteTime": {
     "end_time": "2022-09-23T13:31:01.132912Z",
     "start_time": "2022-09-23T13:31:01.119900Z"
    }
   },
   "outputs": [
    {
     "data": {
      "text/plain": [
       "title               object\n",
       "category            object\n",
       "rating              object\n",
       "length               int64\n",
       "rental_rate        float64\n",
       "rental_duration      int64\n",
       "rented_may         float64\n",
       "dtype: object"
      ]
     },
     "execution_count": 107,
     "metadata": {},
     "output_type": "execute_result"
    }
   ],
   "source": [
    "# Columns to categorical encode\n",
    "data.dtypes"
   ]
  },
  {
   "cell_type": "code",
   "execution_count": 108,
   "id": "4598ba88",
   "metadata": {
    "ExecuteTime": {
     "end_time": "2022-09-23T13:31:01.148926Z",
     "start_time": "2022-09-23T13:31:01.133913Z"
    }
   },
   "outputs": [],
   "source": [
    "# convert rental_rate and rental_duration to object\n",
    "data['rental_rate'] = data['rental_rate'].astype(object)\n",
    "data['rental_duration'] = data['rental_duration'].astype(object)"
   ]
  },
  {
   "cell_type": "code",
   "execution_count": 109,
   "id": "9bddbd21",
   "metadata": {
    "ExecuteTime": {
     "end_time": "2022-09-23T13:31:01.164941Z",
     "start_time": "2022-09-23T13:31:01.150929Z"
    }
   },
   "outputs": [
    {
     "data": {
      "text/plain": [
       "short       325\n",
       "extended    242\n",
       "normal      218\n",
       "long        215\n",
       "Name: length, dtype: int64"
      ]
     },
     "execution_count": 109,
     "metadata": {},
     "output_type": "execute_result"
    }
   ],
   "source": [
    "# making bins for length 0,90,120,150-max\n",
    "lbl = ['short', 'normal', 'long', 'extended'] \n",
    "data['length'] = pd.cut(data['length'],[0,90,120,150,int(data['length'].max())], labels=lbl) \n",
    "data['length'].value_counts()"
   ]
  },
  {
   "cell_type": "code",
   "execution_count": 110,
   "id": "a667fde5",
   "metadata": {
    "ExecuteTime": {
     "end_time": "2022-09-23T13:31:01.180956Z",
     "start_time": "2022-09-23T13:31:01.165942Z"
    }
   },
   "outputs": [],
   "source": [
    "# X-y Split\n",
    "y = data['rented_may']\n",
    "X = data.drop(['rented_may'], axis=1)\n",
    "    \n",
    "# Train test Splits\n",
    "X_train, X_test, y_train, y_test = train_test_split(X, y, test_size=0.20, random_state=42)"
   ]
  },
  {
   "cell_type": "code",
   "execution_count": 111,
   "id": "e1dd4c39",
   "metadata": {
    "ExecuteTime": {
     "end_time": "2022-09-23T13:31:01.196970Z",
     "start_time": "2022-09-23T13:31:01.181956Z"
    },
    "scrolled": true
   },
   "outputs": [
    {
     "data": {
      "text/html": [
       "<div>\n",
       "<style scoped>\n",
       "    .dataframe tbody tr th:only-of-type {\n",
       "        vertical-align: middle;\n",
       "    }\n",
       "\n",
       "    .dataframe tbody tr th {\n",
       "        vertical-align: top;\n",
       "    }\n",
       "\n",
       "    .dataframe thead th {\n",
       "        text-align: right;\n",
       "    }\n",
       "</style>\n",
       "<table border=\"1\" class=\"dataframe\">\n",
       "  <thead>\n",
       "    <tr style=\"text-align: right;\">\n",
       "      <th></th>\n",
       "      <th>title</th>\n",
       "      <th>category</th>\n",
       "      <th>rating</th>\n",
       "      <th>length</th>\n",
       "      <th>rental_rate</th>\n",
       "      <th>rental_duration</th>\n",
       "    </tr>\n",
       "  </thead>\n",
       "  <tbody>\n",
       "    <tr>\n",
       "      <th>521</th>\n",
       "      <td>LIFE TWISTED</td>\n",
       "      <td>Comedy</td>\n",
       "      <td>NC-17</td>\n",
       "      <td>long</td>\n",
       "      <td>2.99</td>\n",
       "      <td>4</td>\n",
       "    </tr>\n",
       "    <tr>\n",
       "      <th>737</th>\n",
       "      <td>ROCKETEER MOTHER</td>\n",
       "      <td>Foreign</td>\n",
       "      <td>PG-13</td>\n",
       "      <td>extended</td>\n",
       "      <td>0.99</td>\n",
       "      <td>3</td>\n",
       "    </tr>\n",
       "    <tr>\n",
       "      <th>740</th>\n",
       "      <td>ROMAN PUNK</td>\n",
       "      <td>Music</td>\n",
       "      <td>NC-17</td>\n",
       "      <td>short</td>\n",
       "      <td>0.99</td>\n",
       "      <td>7</td>\n",
       "    </tr>\n",
       "    <tr>\n",
       "      <th>660</th>\n",
       "      <td>PAST SUICIDES</td>\n",
       "      <td>Foreign</td>\n",
       "      <td>PG-13</td>\n",
       "      <td>extended</td>\n",
       "      <td>4.99</td>\n",
       "      <td>5</td>\n",
       "    </tr>\n",
       "    <tr>\n",
       "      <th>411</th>\n",
       "      <td>HEAVYWEIGHTS BEAST</td>\n",
       "      <td>Documentary</td>\n",
       "      <td>G</td>\n",
       "      <td>normal</td>\n",
       "      <td>4.99</td>\n",
       "      <td>6</td>\n",
       "    </tr>\n",
       "  </tbody>\n",
       "</table>\n",
       "</div>"
      ],
      "text/plain": [
       "                  title     category rating    length rental_rate  \\\n",
       "521        LIFE TWISTED       Comedy  NC-17      long        2.99   \n",
       "737    ROCKETEER MOTHER      Foreign  PG-13  extended        0.99   \n",
       "740          ROMAN PUNK        Music  NC-17     short        0.99   \n",
       "660       PAST SUICIDES      Foreign  PG-13  extended        4.99   \n",
       "411  HEAVYWEIGHTS BEAST  Documentary      G    normal        4.99   \n",
       "\n",
       "    rental_duration  \n",
       "521               4  \n",
       "737               3  \n",
       "740               7  \n",
       "660               5  \n",
       "411               6  "
      ]
     },
     "execution_count": 111,
     "metadata": {},
     "output_type": "execute_result"
    }
   ],
   "source": [
    "X_test.head()"
   ]
  },
  {
   "cell_type": "markdown",
   "id": "ccd318cc",
   "metadata": {},
   "source": [
    "Over Sampling smaller results dataset"
   ]
  },
  {
   "cell_type": "code",
   "execution_count": 112,
   "id": "91c1b15c",
   "metadata": {
    "ExecuteTime": {
     "end_time": "2022-09-23T13:31:01.228295Z",
     "start_time": "2022-09-23T13:31:01.199973Z"
    }
   },
   "outputs": [
    {
     "data": {
      "text/html": [
       "<div>\n",
       "<style scoped>\n",
       "    .dataframe tbody tr th:only-of-type {\n",
       "        vertical-align: middle;\n",
       "    }\n",
       "\n",
       "    .dataframe tbody tr th {\n",
       "        vertical-align: top;\n",
       "    }\n",
       "\n",
       "    .dataframe thead th {\n",
       "        text-align: right;\n",
       "    }\n",
       "</style>\n",
       "<table border=\"1\" class=\"dataframe\">\n",
       "  <thead>\n",
       "    <tr style=\"text-align: right;\">\n",
       "      <th></th>\n",
       "      <th>title</th>\n",
       "      <th>category</th>\n",
       "      <th>rating</th>\n",
       "      <th>length</th>\n",
       "      <th>rental_rate</th>\n",
       "      <th>rental_duration</th>\n",
       "    </tr>\n",
       "  </thead>\n",
       "  <tbody>\n",
       "    <tr>\n",
       "      <th>29</th>\n",
       "      <td>ANYTHING SAVANNAH</td>\n",
       "      <td>Horror</td>\n",
       "      <td>R</td>\n",
       "      <td>short</td>\n",
       "      <td>2.99</td>\n",
       "      <td>4</td>\n",
       "    </tr>\n",
       "    <tr>\n",
       "      <th>535</th>\n",
       "      <td>LOVELY JINGLE</td>\n",
       "      <td>Classics</td>\n",
       "      <td>PG</td>\n",
       "      <td>short</td>\n",
       "      <td>2.99</td>\n",
       "      <td>3</td>\n",
       "    </tr>\n",
       "    <tr>\n",
       "      <th>695</th>\n",
       "      <td>PRIDE ALAMO</td>\n",
       "      <td>Animation</td>\n",
       "      <td>NC-17</td>\n",
       "      <td>normal</td>\n",
       "      <td>0.99</td>\n",
       "      <td>6</td>\n",
       "    </tr>\n",
       "    <tr>\n",
       "      <th>557</th>\n",
       "      <td>MANNEQUIN WORST</td>\n",
       "      <td>New</td>\n",
       "      <td>PG-13</td>\n",
       "      <td>short</td>\n",
       "      <td>2.99</td>\n",
       "      <td>3</td>\n",
       "    </tr>\n",
       "    <tr>\n",
       "      <th>836</th>\n",
       "      <td>STAGE WORLD</td>\n",
       "      <td>Comedy</td>\n",
       "      <td>PG</td>\n",
       "      <td>short</td>\n",
       "      <td>2.99</td>\n",
       "      <td>4</td>\n",
       "    </tr>\n",
       "  </tbody>\n",
       "</table>\n",
       "</div>"
      ],
      "text/plain": [
       "                 title   category rating  length rental_rate rental_duration\n",
       "29   ANYTHING SAVANNAH     Horror      R   short        2.99               4\n",
       "535      LOVELY JINGLE   Classics     PG   short        2.99               3\n",
       "695        PRIDE ALAMO  Animation  NC-17  normal        0.99               6\n",
       "557    MANNEQUIN WORST        New  PG-13   short        2.99               3\n",
       "836        STAGE WORLD     Comedy     PG   short        2.99               4"
      ]
     },
     "metadata": {},
     "output_type": "display_data"
    },
    {
     "data": {
      "text/plain": [
       "0    1.0\n",
       "1    0.0\n",
       "2    1.0\n",
       "3    0.0\n",
       "4    0.0\n",
       "Name: rented_may, dtype: float64"
      ]
     },
     "metadata": {},
     "output_type": "display_data"
    }
   ],
   "source": [
    "from sklearn.utils import resample\n",
    "display(X_train.head())\n",
    "y_train = y_train.reset_index(drop=True)\n",
    "display(y_train.head())\n",
    "\n",
    "train = pd.concat([X_train, y_train],axis=1)\n",
    "\n",
    "no_rent = train[train['rented_may']==0]\n",
    "yes_rent = train[train['rented_may']==1]\n",
    "\n",
    "# oversample minority\n",
    "no_rent_oversampled = resample(no_rent, #<- sample from here\n",
    "                                    replace=True, #<- we need replacement, since we don't have enough data otherwise\n",
    "                                    n_samples = len(yes_rent),#<- make both sets the same size\n",
    "                                    random_state=0)\n",
    "\n",
    "train_oversampled = pd.concat([no_rent,yes_rent],axis=0)\n",
    "\n",
    "y_train = train_oversampled['rented_may'].copy()\n",
    "X_train = train_oversampled.drop('rented_may',axis = 1).copy()"
   ]
  },
  {
   "cell_type": "code",
   "execution_count": null,
   "id": "6f32a804",
   "metadata": {},
   "outputs": [],
   "source": []
  },
  {
   "cell_type": "code",
   "execution_count": 113,
   "id": "5bc8e63b",
   "metadata": {
    "ExecuteTime": {
     "end_time": "2022-09-23T13:31:01.260324Z",
     "start_time": "2022-09-23T13:31:01.231298Z"
    }
   },
   "outputs": [
    {
     "name": "stderr",
     "output_type": "stream",
     "text": [
      "C:\\Users\\VideoMachine\\anaconda3\\lib\\site-packages\\sklearn\\utils\\deprecation.py:87: FutureWarning: Function get_feature_names is deprecated; get_feature_names is deprecated in 1.0 and will be removed in 1.2. Please use get_feature_names_out instead.\n",
      "  warnings.warn(msg, category=FutureWarning)\n"
     ]
    },
    {
     "data": {
      "text/html": [
       "<div>\n",
       "<style scoped>\n",
       "    .dataframe tbody tr th:only-of-type {\n",
       "        vertical-align: middle;\n",
       "    }\n",
       "\n",
       "    .dataframe tbody tr th {\n",
       "        vertical-align: top;\n",
       "    }\n",
       "\n",
       "    .dataframe thead th {\n",
       "        text-align: right;\n",
       "    }\n",
       "</style>\n",
       "<table border=\"1\" class=\"dataframe\">\n",
       "  <thead>\n",
       "    <tr style=\"text-align: right;\">\n",
       "      <th></th>\n",
       "      <th>title_ACE GOLDFINGER</th>\n",
       "      <th>title_ADAPTATION HOLES</th>\n",
       "      <th>title_AFFAIR PREJUDICE</th>\n",
       "      <th>title_AFRICAN EGG</th>\n",
       "      <th>title_AGENT TRUMAN</th>\n",
       "      <th>title_AIRPLANE SIERRA</th>\n",
       "      <th>title_AIRPORT POLLOCK</th>\n",
       "      <th>title_ALABAMA DEVIL</th>\n",
       "      <th>title_ALADDIN CALENDAR</th>\n",
       "      <th>title_ALASKA PHANTOM</th>\n",
       "      <th>...</th>\n",
       "      <th>length_short</th>\n",
       "      <th>length_nan</th>\n",
       "      <th>rental_rate_2.99</th>\n",
       "      <th>rental_rate_4.99</th>\n",
       "      <th>rental_rate_nan</th>\n",
       "      <th>rental_duration_4</th>\n",
       "      <th>rental_duration_5</th>\n",
       "      <th>rental_duration_6</th>\n",
       "      <th>rental_duration_7</th>\n",
       "      <th>rental_duration_nan</th>\n",
       "    </tr>\n",
       "  </thead>\n",
       "  <tbody>\n",
       "    <tr>\n",
       "      <th>0</th>\n",
       "      <td>0.0</td>\n",
       "      <td>0.0</td>\n",
       "      <td>0.0</td>\n",
       "      <td>0.0</td>\n",
       "      <td>0.0</td>\n",
       "      <td>0.0</td>\n",
       "      <td>0.0</td>\n",
       "      <td>0.0</td>\n",
       "      <td>0.0</td>\n",
       "      <td>0.0</td>\n",
       "      <td>...</td>\n",
       "      <td>1.0</td>\n",
       "      <td>0.0</td>\n",
       "      <td>1.0</td>\n",
       "      <td>0.0</td>\n",
       "      <td>0.0</td>\n",
       "      <td>0.0</td>\n",
       "      <td>0.0</td>\n",
       "      <td>0.0</td>\n",
       "      <td>0.0</td>\n",
       "      <td>0.0</td>\n",
       "    </tr>\n",
       "    <tr>\n",
       "      <th>1</th>\n",
       "      <td>0.0</td>\n",
       "      <td>0.0</td>\n",
       "      <td>0.0</td>\n",
       "      <td>0.0</td>\n",
       "      <td>0.0</td>\n",
       "      <td>0.0</td>\n",
       "      <td>0.0</td>\n",
       "      <td>0.0</td>\n",
       "      <td>0.0</td>\n",
       "      <td>0.0</td>\n",
       "      <td>...</td>\n",
       "      <td>1.0</td>\n",
       "      <td>0.0</td>\n",
       "      <td>1.0</td>\n",
       "      <td>0.0</td>\n",
       "      <td>0.0</td>\n",
       "      <td>0.0</td>\n",
       "      <td>0.0</td>\n",
       "      <td>0.0</td>\n",
       "      <td>0.0</td>\n",
       "      <td>0.0</td>\n",
       "    </tr>\n",
       "    <tr>\n",
       "      <th>2</th>\n",
       "      <td>0.0</td>\n",
       "      <td>0.0</td>\n",
       "      <td>0.0</td>\n",
       "      <td>0.0</td>\n",
       "      <td>0.0</td>\n",
       "      <td>0.0</td>\n",
       "      <td>0.0</td>\n",
       "      <td>0.0</td>\n",
       "      <td>0.0</td>\n",
       "      <td>0.0</td>\n",
       "      <td>...</td>\n",
       "      <td>0.0</td>\n",
       "      <td>0.0</td>\n",
       "      <td>0.0</td>\n",
       "      <td>0.0</td>\n",
       "      <td>0.0</td>\n",
       "      <td>0.0</td>\n",
       "      <td>0.0</td>\n",
       "      <td>0.0</td>\n",
       "      <td>0.0</td>\n",
       "      <td>0.0</td>\n",
       "    </tr>\n",
       "    <tr>\n",
       "      <th>3</th>\n",
       "      <td>0.0</td>\n",
       "      <td>0.0</td>\n",
       "      <td>0.0</td>\n",
       "      <td>0.0</td>\n",
       "      <td>0.0</td>\n",
       "      <td>0.0</td>\n",
       "      <td>0.0</td>\n",
       "      <td>0.0</td>\n",
       "      <td>0.0</td>\n",
       "      <td>0.0</td>\n",
       "      <td>...</td>\n",
       "      <td>0.0</td>\n",
       "      <td>0.0</td>\n",
       "      <td>0.0</td>\n",
       "      <td>0.0</td>\n",
       "      <td>0.0</td>\n",
       "      <td>0.0</td>\n",
       "      <td>0.0</td>\n",
       "      <td>0.0</td>\n",
       "      <td>1.0</td>\n",
       "      <td>0.0</td>\n",
       "    </tr>\n",
       "    <tr>\n",
       "      <th>4</th>\n",
       "      <td>0.0</td>\n",
       "      <td>0.0</td>\n",
       "      <td>0.0</td>\n",
       "      <td>0.0</td>\n",
       "      <td>0.0</td>\n",
       "      <td>0.0</td>\n",
       "      <td>0.0</td>\n",
       "      <td>0.0</td>\n",
       "      <td>0.0</td>\n",
       "      <td>0.0</td>\n",
       "      <td>...</td>\n",
       "      <td>0.0</td>\n",
       "      <td>0.0</td>\n",
       "      <td>1.0</td>\n",
       "      <td>0.0</td>\n",
       "      <td>0.0</td>\n",
       "      <td>1.0</td>\n",
       "      <td>0.0</td>\n",
       "      <td>0.0</td>\n",
       "      <td>0.0</td>\n",
       "      <td>0.0</td>\n",
       "    </tr>\n",
       "  </tbody>\n",
       "</table>\n",
       "<p>5 rows × 677 columns</p>\n",
       "</div>"
      ],
      "text/plain": [
       "   title_ACE GOLDFINGER  title_ADAPTATION HOLES  title_AFFAIR PREJUDICE  \\\n",
       "0                   0.0                     0.0                     0.0   \n",
       "1                   0.0                     0.0                     0.0   \n",
       "2                   0.0                     0.0                     0.0   \n",
       "3                   0.0                     0.0                     0.0   \n",
       "4                   0.0                     0.0                     0.0   \n",
       "\n",
       "   title_AFRICAN EGG  title_AGENT TRUMAN  title_AIRPLANE SIERRA  \\\n",
       "0                0.0                 0.0                    0.0   \n",
       "1                0.0                 0.0                    0.0   \n",
       "2                0.0                 0.0                    0.0   \n",
       "3                0.0                 0.0                    0.0   \n",
       "4                0.0                 0.0                    0.0   \n",
       "\n",
       "   title_AIRPORT POLLOCK  title_ALABAMA DEVIL  title_ALADDIN CALENDAR  \\\n",
       "0                    0.0                  0.0                     0.0   \n",
       "1                    0.0                  0.0                     0.0   \n",
       "2                    0.0                  0.0                     0.0   \n",
       "3                    0.0                  0.0                     0.0   \n",
       "4                    0.0                  0.0                     0.0   \n",
       "\n",
       "   title_ALASKA PHANTOM  ...  length_short  length_nan  rental_rate_2.99  \\\n",
       "0                   0.0  ...           1.0         0.0               1.0   \n",
       "1                   0.0  ...           1.0         0.0               1.0   \n",
       "2                   0.0  ...           0.0         0.0               0.0   \n",
       "3                   0.0  ...           0.0         0.0               0.0   \n",
       "4                   0.0  ...           0.0         0.0               1.0   \n",
       "\n",
       "   rental_rate_4.99  rental_rate_nan  rental_duration_4  rental_duration_5  \\\n",
       "0               0.0              0.0                0.0                0.0   \n",
       "1               0.0              0.0                0.0                0.0   \n",
       "2               0.0              0.0                0.0                0.0   \n",
       "3               0.0              0.0                0.0                0.0   \n",
       "4               0.0              0.0                1.0                0.0   \n",
       "\n",
       "   rental_duration_6  rental_duration_7  rental_duration_nan  \n",
       "0                0.0                0.0                  0.0  \n",
       "1                0.0                0.0                  0.0  \n",
       "2                0.0                0.0                  0.0  \n",
       "3                0.0                1.0                  0.0  \n",
       "4                0.0                0.0                  0.0  \n",
       "\n",
       "[5 rows x 677 columns]"
      ]
     },
     "execution_count": 113,
     "metadata": {},
     "output_type": "execute_result"
    }
   ],
   "source": [
    "# This encoder only will be run one time and will be good for both test and train sets\n",
    "onehotencoder = OneHotEncoder(drop='first', handle_unknown = 'ignore').fit(X_train)\n",
    "\n",
    "# One hot encoder funtion\n",
    "def encode_cats(X_cat):\n",
    "    encoded = onehotencoder.transform(X_cat).toarray()\n",
    "    cols = onehotencoder.get_feature_names(input_features=X_cat.columns)\n",
    "    return pd.DataFrame(encoded, columns=cols)\n",
    "\n",
    "X_train = encode_cats(X_train)\n",
    "X_train.head()"
   ]
  },
  {
   "cell_type": "code",
   "execution_count": 114,
   "id": "cf7ca03b",
   "metadata": {
    "ExecuteTime": {
     "end_time": "2022-09-23T13:31:01.292353Z",
     "start_time": "2022-09-23T13:31:01.261325Z"
    }
   },
   "outputs": [
    {
     "name": "stderr",
     "output_type": "stream",
     "text": [
      "C:\\Users\\VideoMachine\\anaconda3\\lib\\site-packages\\sklearn\\preprocessing\\_encoders.py:170: UserWarning: Found unknown categories in columns [0] during transform. These unknown categories will be encoded as all zeros\n",
      "  warnings.warn(\n",
      "C:\\Users\\VideoMachine\\anaconda3\\lib\\site-packages\\sklearn\\utils\\deprecation.py:87: FutureWarning: Function get_feature_names is deprecated; get_feature_names is deprecated in 1.0 and will be removed in 1.2. Please use get_feature_names_out instead.\n",
      "  warnings.warn(msg, category=FutureWarning)\n"
     ]
    },
    {
     "data": {
      "text/html": [
       "<div>\n",
       "<style scoped>\n",
       "    .dataframe tbody tr th:only-of-type {\n",
       "        vertical-align: middle;\n",
       "    }\n",
       "\n",
       "    .dataframe tbody tr th {\n",
       "        vertical-align: top;\n",
       "    }\n",
       "\n",
       "    .dataframe thead th {\n",
       "        text-align: right;\n",
       "    }\n",
       "</style>\n",
       "<table border=\"1\" class=\"dataframe\">\n",
       "  <thead>\n",
       "    <tr style=\"text-align: right;\">\n",
       "      <th></th>\n",
       "      <th>title_ACE GOLDFINGER</th>\n",
       "      <th>title_ADAPTATION HOLES</th>\n",
       "      <th>title_AFFAIR PREJUDICE</th>\n",
       "      <th>title_AFRICAN EGG</th>\n",
       "      <th>title_AGENT TRUMAN</th>\n",
       "      <th>title_AIRPLANE SIERRA</th>\n",
       "      <th>title_AIRPORT POLLOCK</th>\n",
       "      <th>title_ALABAMA DEVIL</th>\n",
       "      <th>title_ALADDIN CALENDAR</th>\n",
       "      <th>title_ALASKA PHANTOM</th>\n",
       "      <th>...</th>\n",
       "      <th>length_short</th>\n",
       "      <th>length_nan</th>\n",
       "      <th>rental_rate_2.99</th>\n",
       "      <th>rental_rate_4.99</th>\n",
       "      <th>rental_rate_nan</th>\n",
       "      <th>rental_duration_4</th>\n",
       "      <th>rental_duration_5</th>\n",
       "      <th>rental_duration_6</th>\n",
       "      <th>rental_duration_7</th>\n",
       "      <th>rental_duration_nan</th>\n",
       "    </tr>\n",
       "  </thead>\n",
       "  <tbody>\n",
       "    <tr>\n",
       "      <th>0</th>\n",
       "      <td>0.0</td>\n",
       "      <td>0.0</td>\n",
       "      <td>0.0</td>\n",
       "      <td>0.0</td>\n",
       "      <td>0.0</td>\n",
       "      <td>0.0</td>\n",
       "      <td>0.0</td>\n",
       "      <td>0.0</td>\n",
       "      <td>0.0</td>\n",
       "      <td>0.0</td>\n",
       "      <td>...</td>\n",
       "      <td>0.0</td>\n",
       "      <td>0.0</td>\n",
       "      <td>1.0</td>\n",
       "      <td>0.0</td>\n",
       "      <td>0.0</td>\n",
       "      <td>1.0</td>\n",
       "      <td>0.0</td>\n",
       "      <td>0.0</td>\n",
       "      <td>0.0</td>\n",
       "      <td>0.0</td>\n",
       "    </tr>\n",
       "    <tr>\n",
       "      <th>1</th>\n",
       "      <td>0.0</td>\n",
       "      <td>0.0</td>\n",
       "      <td>0.0</td>\n",
       "      <td>0.0</td>\n",
       "      <td>0.0</td>\n",
       "      <td>0.0</td>\n",
       "      <td>0.0</td>\n",
       "      <td>0.0</td>\n",
       "      <td>0.0</td>\n",
       "      <td>0.0</td>\n",
       "      <td>...</td>\n",
       "      <td>0.0</td>\n",
       "      <td>0.0</td>\n",
       "      <td>0.0</td>\n",
       "      <td>0.0</td>\n",
       "      <td>0.0</td>\n",
       "      <td>0.0</td>\n",
       "      <td>0.0</td>\n",
       "      <td>0.0</td>\n",
       "      <td>0.0</td>\n",
       "      <td>0.0</td>\n",
       "    </tr>\n",
       "    <tr>\n",
       "      <th>2</th>\n",
       "      <td>0.0</td>\n",
       "      <td>0.0</td>\n",
       "      <td>0.0</td>\n",
       "      <td>0.0</td>\n",
       "      <td>0.0</td>\n",
       "      <td>0.0</td>\n",
       "      <td>0.0</td>\n",
       "      <td>0.0</td>\n",
       "      <td>0.0</td>\n",
       "      <td>0.0</td>\n",
       "      <td>...</td>\n",
       "      <td>1.0</td>\n",
       "      <td>0.0</td>\n",
       "      <td>0.0</td>\n",
       "      <td>0.0</td>\n",
       "      <td>0.0</td>\n",
       "      <td>0.0</td>\n",
       "      <td>0.0</td>\n",
       "      <td>0.0</td>\n",
       "      <td>1.0</td>\n",
       "      <td>0.0</td>\n",
       "    </tr>\n",
       "    <tr>\n",
       "      <th>3</th>\n",
       "      <td>0.0</td>\n",
       "      <td>0.0</td>\n",
       "      <td>0.0</td>\n",
       "      <td>0.0</td>\n",
       "      <td>0.0</td>\n",
       "      <td>0.0</td>\n",
       "      <td>0.0</td>\n",
       "      <td>0.0</td>\n",
       "      <td>0.0</td>\n",
       "      <td>0.0</td>\n",
       "      <td>...</td>\n",
       "      <td>0.0</td>\n",
       "      <td>0.0</td>\n",
       "      <td>0.0</td>\n",
       "      <td>1.0</td>\n",
       "      <td>0.0</td>\n",
       "      <td>0.0</td>\n",
       "      <td>1.0</td>\n",
       "      <td>0.0</td>\n",
       "      <td>0.0</td>\n",
       "      <td>0.0</td>\n",
       "    </tr>\n",
       "    <tr>\n",
       "      <th>4</th>\n",
       "      <td>0.0</td>\n",
       "      <td>0.0</td>\n",
       "      <td>0.0</td>\n",
       "      <td>0.0</td>\n",
       "      <td>0.0</td>\n",
       "      <td>0.0</td>\n",
       "      <td>0.0</td>\n",
       "      <td>0.0</td>\n",
       "      <td>0.0</td>\n",
       "      <td>0.0</td>\n",
       "      <td>...</td>\n",
       "      <td>0.0</td>\n",
       "      <td>0.0</td>\n",
       "      <td>0.0</td>\n",
       "      <td>1.0</td>\n",
       "      <td>0.0</td>\n",
       "      <td>0.0</td>\n",
       "      <td>0.0</td>\n",
       "      <td>1.0</td>\n",
       "      <td>0.0</td>\n",
       "      <td>0.0</td>\n",
       "    </tr>\n",
       "  </tbody>\n",
       "</table>\n",
       "<p>5 rows × 677 columns</p>\n",
       "</div>"
      ],
      "text/plain": [
       "   title_ACE GOLDFINGER  title_ADAPTATION HOLES  title_AFFAIR PREJUDICE  \\\n",
       "0                   0.0                     0.0                     0.0   \n",
       "1                   0.0                     0.0                     0.0   \n",
       "2                   0.0                     0.0                     0.0   \n",
       "3                   0.0                     0.0                     0.0   \n",
       "4                   0.0                     0.0                     0.0   \n",
       "\n",
       "   title_AFRICAN EGG  title_AGENT TRUMAN  title_AIRPLANE SIERRA  \\\n",
       "0                0.0                 0.0                    0.0   \n",
       "1                0.0                 0.0                    0.0   \n",
       "2                0.0                 0.0                    0.0   \n",
       "3                0.0                 0.0                    0.0   \n",
       "4                0.0                 0.0                    0.0   \n",
       "\n",
       "   title_AIRPORT POLLOCK  title_ALABAMA DEVIL  title_ALADDIN CALENDAR  \\\n",
       "0                    0.0                  0.0                     0.0   \n",
       "1                    0.0                  0.0                     0.0   \n",
       "2                    0.0                  0.0                     0.0   \n",
       "3                    0.0                  0.0                     0.0   \n",
       "4                    0.0                  0.0                     0.0   \n",
       "\n",
       "   title_ALASKA PHANTOM  ...  length_short  length_nan  rental_rate_2.99  \\\n",
       "0                   0.0  ...           0.0         0.0               1.0   \n",
       "1                   0.0  ...           0.0         0.0               0.0   \n",
       "2                   0.0  ...           1.0         0.0               0.0   \n",
       "3                   0.0  ...           0.0         0.0               0.0   \n",
       "4                   0.0  ...           0.0         0.0               0.0   \n",
       "\n",
       "   rental_rate_4.99  rental_rate_nan  rental_duration_4  rental_duration_5  \\\n",
       "0               0.0              0.0                1.0                0.0   \n",
       "1               0.0              0.0                0.0                0.0   \n",
       "2               0.0              0.0                0.0                0.0   \n",
       "3               1.0              0.0                0.0                1.0   \n",
       "4               1.0              0.0                0.0                0.0   \n",
       "\n",
       "   rental_duration_6  rental_duration_7  rental_duration_nan  \n",
       "0                0.0                0.0                  0.0  \n",
       "1                0.0                0.0                  0.0  \n",
       "2                0.0                1.0                  0.0  \n",
       "3                0.0                0.0                  0.0  \n",
       "4                1.0                0.0                  0.0  \n",
       "\n",
       "[5 rows x 677 columns]"
      ]
     },
     "execution_count": 114,
     "metadata": {},
     "output_type": "execute_result"
    }
   ],
   "source": [
    "X_test = encode_cats(X_test)\n",
    "X_test.head()"
   ]
  },
  {
   "cell_type": "markdown",
   "id": "df6e213a",
   "metadata": {},
   "source": [
    "## Using Logistic regression model"
   ]
  },
  {
   "cell_type": "code",
   "execution_count": 115,
   "id": "77766116",
   "metadata": {
    "ExecuteTime": {
     "end_time": "2022-09-23T13:31:01.484047Z",
     "start_time": "2022-09-23T13:31:01.293354Z"
    }
   },
   "outputs": [],
   "source": [
    "from sklearn.linear_model import LogisticRegression\n",
    "\n",
    "classification = LogisticRegression(solver='saga').fit(X_train, y_train)\n",
    "predictions_clf = classification.predict(X_test)"
   ]
  },
  {
   "cell_type": "markdown",
   "id": "2216f651",
   "metadata": {},
   "source": [
    "## Using Kneighbors Classifier"
   ]
  },
  {
   "cell_type": "code",
   "execution_count": 125,
   "id": "cbbba0f4",
   "metadata": {
    "ExecuteTime": {
     "end_time": "2022-09-23T13:32:12.737708Z",
     "start_time": "2022-09-23T13:32:12.702676Z"
    }
   },
   "outputs": [],
   "source": [
    "from sklearn import neighbors\n",
    "\n",
    "classification_K = neighbors.KNeighborsClassifier(n_neighbors=6, weights='uniform')\n",
    "classification_K.fit(X_train, y_train)\n",
    "predictions_clf_K = classification_K.predict(X_test)"
   ]
  },
  {
   "cell_type": "markdown",
   "id": "7f415484",
   "metadata": {},
   "source": [
    "## Evaluation metrics"
   ]
  },
  {
   "cell_type": "code",
   "execution_count": 117,
   "id": "3df8e596",
   "metadata": {
    "ExecuteTime": {
     "end_time": "2022-09-23T13:31:01.546829Z",
     "start_time": "2022-09-23T13:31:01.516803Z"
    },
    "scrolled": true
   },
   "outputs": [
    {
     "name": "stdout",
     "output_type": "stream",
     "text": [
      "\u001b[1m\u001b[91m\n",
      "       Classification scores\n",
      "\u001b[0m\n",
      "Logistic regression Model:  66.5 %\n",
      "Kneighbors classifier:      54.0 %\n"
     ]
    }
   ],
   "source": [
    "print('\\033[1m'+'\\033[91m'+'\\n       Classification scores\\n'+'\\033[0m')\n",
    "print('Logistic regression Model: ',round(classification.score(X_test, y_test)*100,2),'%')\n",
    "print('Kneighbors classifier:     ',round(classification_K.score(X_test, y_test)*100,2),'%')"
   ]
  },
  {
   "cell_type": "code",
   "execution_count": 118,
   "id": "11a42519",
   "metadata": {
    "ExecuteTime": {
     "end_time": "2022-09-23T13:31:01.562844Z",
     "start_time": "2022-09-23T13:31:01.547831Z"
    },
    "scrolled": true
   },
   "outputs": [
    {
     "name": "stdout",
     "output_type": "stream",
     "text": [
      "\u001b[1m\u001b[91mTest set quantity results:\n",
      "\n",
      " \u001b[0m 1.0    135\n",
      "0.0     65\n",
      "Name: rented_may, dtype: int64\n",
      "\u001b[1m\u001b[91m\n",
      "Logistic regression Model:\n",
      " \u001b[0m 1.0    198\n",
      "0.0      2\n",
      "dtype: int64\n",
      "\u001b[1m\u001b[91m\n",
      "Kneighbors classifier:    \n",
      " \u001b[0m 1.0    133\n",
      "0.0     67\n",
      "dtype: int64\n"
     ]
    }
   ],
   "source": [
    "print('\\033[1m'+'\\033[91m'+'Test set quantity results:\\n\\n '+'\\033[0m',pd.Series(y_test).value_counts())\n",
    "print('\\033[1m'+'\\033[91m'+'\\nLogistic regression Model:\\n '+'\\033[0m',pd.Series(predictions_clf).value_counts())\n",
    "print('\\033[1m'+'\\033[91m'+'\\nKneighbors classifier:    \\n '+'\\033[0m',pd.Series(predictions_clf_K).value_counts())"
   ]
  },
  {
   "cell_type": "markdown",
   "id": "0e693cbc",
   "metadata": {},
   "source": [
    "### Confusion Matrix"
   ]
  },
  {
   "cell_type": "code",
   "execution_count": 119,
   "id": "cdb7d9eb",
   "metadata": {
    "ExecuteTime": {
     "end_time": "2022-09-23T13:31:01.578858Z",
     "start_time": "2022-09-23T13:31:01.563846Z"
    }
   },
   "outputs": [
    {
     "name": "stdout",
     "output_type": "stream",
     "text": [
      "\u001b[1m\u001b[91m      Logistic regression\n",
      "\u001b[0m\n",
      "             Predicted Labels\n",
      "             |   A    |     B\n",
      "             -------------------\n",
      "True label A |  0     |    65\n",
      "             -------------------\n",
      "           B |  2     |   133\n"
     ]
    }
   ],
   "source": [
    "print('\\033[1m'+'\\033[91m'+'      Logistic regression\\n'+'\\033[0m')\n",
    "array = confusion_matrix(y_test, predictions_clf)\n",
    "print('             Predicted Labels')\n",
    "print('             |   A    |     B')    \n",
    "print('             -------------------')\n",
    "print('True label A | ',array[0][0],'    |   ', array[0][1])\n",
    "print('             -------------------')\n",
    "print('           B | ',array[1][0],'    |  ', array[1][1])"
   ]
  },
  {
   "cell_type": "code",
   "execution_count": 120,
   "id": "0ab7b664",
   "metadata": {
    "ExecuteTime": {
     "end_time": "2022-09-23T13:31:01.594840Z",
     "start_time": "2022-09-23T13:31:01.579860Z"
    },
    "scrolled": true
   },
   "outputs": [
    {
     "name": "stdout",
     "output_type": "stream",
     "text": [
      "\u001b[1m\u001b[91m      Kneighbors classifier\n",
      "\u001b[0m\n",
      "             Predicted Labels\n",
      "             |   A    |     B\n",
      "             -------------------\n",
      "True label A |  20     |    45\n",
      "             -------------------\n",
      "           B |  47    |    88\n"
     ]
    }
   ],
   "source": [
    "print('\\033[1m'+'\\033[91m'+'      Kneighbors classifier\\n'+'\\033[0m')\n",
    "array = confusion_matrix(y_test, predictions_clf_K)\n",
    "print('             Predicted Labels')\n",
    "print('             |   A    |     B')    \n",
    "print('             -------------------')\n",
    "print('True label A | ',array[0][0],'    |   ', array[0][1])\n",
    "print('             -------------------')\n",
    "print('           B | ',array[1][0],'   |   ', array[1][1])"
   ]
  },
  {
   "cell_type": "markdown",
   "id": "0b613608",
   "metadata": {},
   "source": [
    "### Summary\n",
    "\n",
    "Looking at the scores the logistics regression is better no doubt with 70%, but if we look at the quantity of 0's and 1's looking at the expected results quantities and comparing them to both methods quantities of each results we get the idea that the Kneighbors results are almost on spot just missing 6 results, although keeping in mind that the order of the results matters because in this case it will be associated with a particular movie we can see that Kneighbors is pretty un-usable missing 88 results, while the Logistic regression \"only\" misses 56.\n",
    "\n",
    "I can't say that any method is really usable but I can say that the logistics regression in this case is more reliable, but I wouldn't lean heavilly on this model to make any business decision, it is tough a good rough guide.\n",
    "\n",
    "One thing that I think that this model shows us is that the very nature of renting videos changes with time with new releases and that people normally want to rent new movies.\n"
   ]
  },
  {
   "cell_type": "code",
   "execution_count": 121,
   "id": "c929e581",
   "metadata": {
    "ExecuteTime": {
     "end_time": "2022-09-23T13:31:01.610853Z",
     "start_time": "2022-09-23T13:31:01.597842Z"
    }
   },
   "outputs": [],
   "source": [
    "# !git push"
   ]
  },
  {
   "cell_type": "code",
   "execution_count": 122,
   "id": "c2dc874a",
   "metadata": {
    "ExecuteTime": {
     "end_time": "2022-09-23T13:31:01.626868Z",
     "start_time": "2022-09-23T13:31:01.611854Z"
    }
   },
   "outputs": [],
   "source": [
    "from sklearn.metrics import precision_score\n",
    "from sklearn.metrics import recall_score\n",
    "from sklearn.metrics import f1_score"
   ]
  },
  {
   "cell_type": "code",
   "execution_count": 128,
   "id": "bb3cfdd8",
   "metadata": {
    "ExecuteTime": {
     "end_time": "2022-09-23T13:32:30.210713Z",
     "start_time": "2022-09-23T13:32:30.193698Z"
    }
   },
   "outputs": [
    {
     "name": "stdout",
     "output_type": "stream",
     "text": [
      "precision:  0.6666666666666666\n",
      "recall:  0.7703703703703704\n",
      "f1:  0.7147766323024054\n"
     ]
    }
   ],
   "source": [
    "print(\"precision: \",precision_score(y_test,predictions_clf_K))\n",
    "print(\"recall: \",recall_score(y_test,predictions_clf_K))\n",
    "print(\"f1: \",f1_score(y_test,predictions_clf_K))"
   ]
  },
  {
   "cell_type": "code",
   "execution_count": 127,
   "id": "313b1e71",
   "metadata": {
    "ExecuteTime": {
     "end_time": "2022-09-23T13:32:28.776156Z",
     "start_time": "2022-09-23T13:32:28.758636Z"
    }
   },
   "outputs": [
    {
     "name": "stdout",
     "output_type": "stream",
     "text": [
      "precision:  0.6717171717171717\n",
      "recall:  0.9851851851851852\n",
      "f1:  0.7987987987987988\n"
     ]
    }
   ],
   "source": [
    "print(\"precision: \",precision_score(y_test,predictions_clf))\n",
    "print(\"recall: \",recall_score(y_test,predictions_clf))\n",
    "print(\"f1: \",f1_score(y_test,predictions_clf))"
   ]
  },
  {
   "cell_type": "code",
   "execution_count": null,
   "id": "722a1c4c",
   "metadata": {},
   "outputs": [],
   "source": []
  }
 ],
 "metadata": {
  "kernelspec": {
   "display_name": "Python 3 (ipykernel)",
   "language": "python",
   "name": "python3"
  },
  "language_info": {
   "codemirror_mode": {
    "name": "ipython",
    "version": 3
   },
   "file_extension": ".py",
   "mimetype": "text/x-python",
   "name": "python",
   "nbconvert_exporter": "python",
   "pygments_lexer": "ipython3",
   "version": "3.9.12"
  },
  "toc": {
   "base_numbering": 1,
   "nav_menu": {},
   "number_sections": true,
   "sideBar": true,
   "skip_h1_title": false,
   "title_cell": "Table of Contents",
   "title_sidebar": "Contents",
   "toc_cell": false,
   "toc_position": {},
   "toc_section_display": true,
   "toc_window_display": false
  }
 },
 "nbformat": 4,
 "nbformat_minor": 5
}
